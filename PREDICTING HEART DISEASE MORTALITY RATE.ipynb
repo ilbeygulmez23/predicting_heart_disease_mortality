{
  "nbformat": 4,
  "nbformat_minor": 0,
  "metadata": {
    "colab": {
      "provenance": [],
      "gpuType": "T4",
      "collapsed_sections": [
        "lA_Hmh-Zr7qp",
        "G4kt50GaDMxI",
        "9QTY8ex9C8V2",
        "EyyNCSgSr5Dx",
        "m54N0wz18g-C",
        "dGv9YpWChT3W",
        "mzge81co0aBJ"
      ]
    },
    "kernelspec": {
      "name": "python3",
      "display_name": "Python 3"
    },
    "language_info": {
      "name": "python"
    },
    "accelerator": "GPU"
  },
  "cells": [
    {
      "cell_type": "markdown",
      "source": [
        "# AIN427 TERM PROJECT - PREDICTING HEART DISEASE MORTALITY RATE\n",
        "# B2210765024 - İLBEY GÜLMEZ\n"
      ],
      "metadata": {
        "id": "lA_Hmh-Zr7qp"
      }
    },
    {
      "cell_type": "markdown",
      "source": [
        "## Reading the Data"
      ],
      "metadata": {
        "id": "G4kt50GaDMxI"
      }
    },
    {
      "cell_type": "code",
      "execution_count": 1,
      "metadata": {
        "id": "vkTQENkPAVVK"
      },
      "outputs": [],
      "source": [
        "import os\n",
        "from google.colab import drive\n",
        "import pandas as pd\n",
        "import numpy as np\n",
        "import matplotlib.pyplot as plt"
      ]
    },
    {
      "cell_type": "code",
      "source": [
        "drive.mount('/content/drive')"
      ],
      "metadata": {
        "colab": {
          "base_uri": "https://localhost:8080/"
        },
        "id": "RTB-XjVBA6E0",
        "outputId": "d079716d-9a37-4235-a91a-cd387119c61e"
      },
      "execution_count": 2,
      "outputs": [
        {
          "output_type": "stream",
          "name": "stdout",
          "text": [
            "Mounted at /content/drive\n"
          ]
        }
      ]
    },
    {
      "cell_type": "code",
      "source": [
        "os.chdir('drive/MyDrive/Colab Notebooks')"
      ],
      "metadata": {
        "id": "XvREPOP-2r3_"
      },
      "execution_count": 3,
      "outputs": []
    },
    {
      "cell_type": "code",
      "source": [
        "data = pd.read_csv('data.csv')"
      ],
      "metadata": {
        "id": "VAaboGj0A_RF"
      },
      "execution_count": 4,
      "outputs": []
    },
    {
      "cell_type": "markdown",
      "source": [
        "## Data Exploration"
      ],
      "metadata": {
        "id": "9QTY8ex9C8V2"
      }
    },
    {
      "cell_type": "code",
      "source": [
        "import seaborn as sns\n",
        "import matplotlib.pyplot as plt"
      ],
      "metadata": {
        "id": "FurBmderDb-N"
      },
      "execution_count": 5,
      "outputs": []
    },
    {
      "cell_type": "code",
      "source": [
        "data.head()"
      ],
      "metadata": {
        "colab": {
          "base_uri": "https://localhost:8080/",
          "height": 380
        },
        "id": "32ZPv1bUJQtP",
        "outputId": "e437b0a7-2ad7-4189-d3b2-afee33d87f1f"
      },
      "execution_count": 6,
      "outputs": [
        {
          "output_type": "execute_result",
          "data": {
            "text/plain": [
              "   Year LocationAbbr    LocationDesc GeographicLevel DataSource  \\\n",
              "0  2014           AK  Aleutians East          County       NVSS   \n",
              "1  2014           AK  Aleutians West          County       NVSS   \n",
              "2  2014           AK       Anchorage          County       NVSS   \n",
              "3  2014           AK          Bethel          County       NVSS   \n",
              "4  2014           AK     Bristol Bay          County       NVSS   \n",
              "\n",
              "                     Class                    Topic  Data_Value  \\\n",
              "0  Cardiovascular Diseases  Heart Disease Mortality       105.3   \n",
              "1  Cardiovascular Diseases  Heart Disease Mortality       211.9   \n",
              "2  Cardiovascular Diseases  Heart Disease Mortality       257.9   \n",
              "3  Cardiovascular Diseases  Heart Disease Mortality       351.6   \n",
              "4  Cardiovascular Diseases  Heart Disease Mortality         NaN   \n",
              "\n",
              "          Data_Value_Unit                                    Data_Value_Type  \\\n",
              "0  per 100,000 population  Age-adjusted, Spatially Smoothed, 3-year Avera...   \n",
              "1  per 100,000 population  Age-adjusted, Spatially Smoothed, 3-year Avera...   \n",
              "2  per 100,000 population  Age-adjusted, Spatially Smoothed, 3-year Avera...   \n",
              "3  per 100,000 population  Age-adjusted, Spatially Smoothed, 3-year Avera...   \n",
              "4  per 100,000 population  Age-adjusted, Spatially Smoothed, 3-year Avera...   \n",
              "\n",
              "  Data_Value_Footnote_Symbol Data_Value_Footnote StratificationCategory1  \\\n",
              "0                        NaN                 NaN                  Gender   \n",
              "1                        NaN                 NaN                  Gender   \n",
              "2                        NaN                 NaN                  Gender   \n",
              "3                        NaN                 NaN                  Gender   \n",
              "4                          ~   Insufficient Data                  Gender   \n",
              "\n",
              "  Stratification1 StratificationCategory2 Stratification2 TopicID  LocationID  \\\n",
              "0         Overall          Race/Ethnicity         Overall      T2        2013   \n",
              "1         Overall          Race/Ethnicity         Overall      T2        2016   \n",
              "2         Overall          Race/Ethnicity         Overall      T2        2020   \n",
              "3         Overall          Race/Ethnicity         Overall      T2        2050   \n",
              "4         Overall          Race/Ethnicity         Overall      T2        2060   \n",
              "\n",
              "                 Location 1  \n",
              "0  (55.440626, -161.962562)  \n",
              "1  (52.995403, -170.251538)  \n",
              "2  (61.159049, -149.103905)  \n",
              "3  (60.924483, -159.749655)  \n",
              "4  (58.754192, -156.694709)  "
            ],
            "text/html": [
              "\n",
              "  <div id=\"df-c4e700d1-a9f1-4910-9806-bf7dc227f92b\" class=\"colab-df-container\">\n",
              "    <div>\n",
              "<style scoped>\n",
              "    .dataframe tbody tr th:only-of-type {\n",
              "        vertical-align: middle;\n",
              "    }\n",
              "\n",
              "    .dataframe tbody tr th {\n",
              "        vertical-align: top;\n",
              "    }\n",
              "\n",
              "    .dataframe thead th {\n",
              "        text-align: right;\n",
              "    }\n",
              "</style>\n",
              "<table border=\"1\" class=\"dataframe\">\n",
              "  <thead>\n",
              "    <tr style=\"text-align: right;\">\n",
              "      <th></th>\n",
              "      <th>Year</th>\n",
              "      <th>LocationAbbr</th>\n",
              "      <th>LocationDesc</th>\n",
              "      <th>GeographicLevel</th>\n",
              "      <th>DataSource</th>\n",
              "      <th>Class</th>\n",
              "      <th>Topic</th>\n",
              "      <th>Data_Value</th>\n",
              "      <th>Data_Value_Unit</th>\n",
              "      <th>Data_Value_Type</th>\n",
              "      <th>Data_Value_Footnote_Symbol</th>\n",
              "      <th>Data_Value_Footnote</th>\n",
              "      <th>StratificationCategory1</th>\n",
              "      <th>Stratification1</th>\n",
              "      <th>StratificationCategory2</th>\n",
              "      <th>Stratification2</th>\n",
              "      <th>TopicID</th>\n",
              "      <th>LocationID</th>\n",
              "      <th>Location 1</th>\n",
              "    </tr>\n",
              "  </thead>\n",
              "  <tbody>\n",
              "    <tr>\n",
              "      <th>0</th>\n",
              "      <td>2014</td>\n",
              "      <td>AK</td>\n",
              "      <td>Aleutians East</td>\n",
              "      <td>County</td>\n",
              "      <td>NVSS</td>\n",
              "      <td>Cardiovascular Diseases</td>\n",
              "      <td>Heart Disease Mortality</td>\n",
              "      <td>105.3</td>\n",
              "      <td>per 100,000 population</td>\n",
              "      <td>Age-adjusted, Spatially Smoothed, 3-year Avera...</td>\n",
              "      <td>NaN</td>\n",
              "      <td>NaN</td>\n",
              "      <td>Gender</td>\n",
              "      <td>Overall</td>\n",
              "      <td>Race/Ethnicity</td>\n",
              "      <td>Overall</td>\n",
              "      <td>T2</td>\n",
              "      <td>2013</td>\n",
              "      <td>(55.440626, -161.962562)</td>\n",
              "    </tr>\n",
              "    <tr>\n",
              "      <th>1</th>\n",
              "      <td>2014</td>\n",
              "      <td>AK</td>\n",
              "      <td>Aleutians West</td>\n",
              "      <td>County</td>\n",
              "      <td>NVSS</td>\n",
              "      <td>Cardiovascular Diseases</td>\n",
              "      <td>Heart Disease Mortality</td>\n",
              "      <td>211.9</td>\n",
              "      <td>per 100,000 population</td>\n",
              "      <td>Age-adjusted, Spatially Smoothed, 3-year Avera...</td>\n",
              "      <td>NaN</td>\n",
              "      <td>NaN</td>\n",
              "      <td>Gender</td>\n",
              "      <td>Overall</td>\n",
              "      <td>Race/Ethnicity</td>\n",
              "      <td>Overall</td>\n",
              "      <td>T2</td>\n",
              "      <td>2016</td>\n",
              "      <td>(52.995403, -170.251538)</td>\n",
              "    </tr>\n",
              "    <tr>\n",
              "      <th>2</th>\n",
              "      <td>2014</td>\n",
              "      <td>AK</td>\n",
              "      <td>Anchorage</td>\n",
              "      <td>County</td>\n",
              "      <td>NVSS</td>\n",
              "      <td>Cardiovascular Diseases</td>\n",
              "      <td>Heart Disease Mortality</td>\n",
              "      <td>257.9</td>\n",
              "      <td>per 100,000 population</td>\n",
              "      <td>Age-adjusted, Spatially Smoothed, 3-year Avera...</td>\n",
              "      <td>NaN</td>\n",
              "      <td>NaN</td>\n",
              "      <td>Gender</td>\n",
              "      <td>Overall</td>\n",
              "      <td>Race/Ethnicity</td>\n",
              "      <td>Overall</td>\n",
              "      <td>T2</td>\n",
              "      <td>2020</td>\n",
              "      <td>(61.159049, -149.103905)</td>\n",
              "    </tr>\n",
              "    <tr>\n",
              "      <th>3</th>\n",
              "      <td>2014</td>\n",
              "      <td>AK</td>\n",
              "      <td>Bethel</td>\n",
              "      <td>County</td>\n",
              "      <td>NVSS</td>\n",
              "      <td>Cardiovascular Diseases</td>\n",
              "      <td>Heart Disease Mortality</td>\n",
              "      <td>351.6</td>\n",
              "      <td>per 100,000 population</td>\n",
              "      <td>Age-adjusted, Spatially Smoothed, 3-year Avera...</td>\n",
              "      <td>NaN</td>\n",
              "      <td>NaN</td>\n",
              "      <td>Gender</td>\n",
              "      <td>Overall</td>\n",
              "      <td>Race/Ethnicity</td>\n",
              "      <td>Overall</td>\n",
              "      <td>T2</td>\n",
              "      <td>2050</td>\n",
              "      <td>(60.924483, -159.749655)</td>\n",
              "    </tr>\n",
              "    <tr>\n",
              "      <th>4</th>\n",
              "      <td>2014</td>\n",
              "      <td>AK</td>\n",
              "      <td>Bristol Bay</td>\n",
              "      <td>County</td>\n",
              "      <td>NVSS</td>\n",
              "      <td>Cardiovascular Diseases</td>\n",
              "      <td>Heart Disease Mortality</td>\n",
              "      <td>NaN</td>\n",
              "      <td>per 100,000 population</td>\n",
              "      <td>Age-adjusted, Spatially Smoothed, 3-year Avera...</td>\n",
              "      <td>~</td>\n",
              "      <td>Insufficient Data</td>\n",
              "      <td>Gender</td>\n",
              "      <td>Overall</td>\n",
              "      <td>Race/Ethnicity</td>\n",
              "      <td>Overall</td>\n",
              "      <td>T2</td>\n",
              "      <td>2060</td>\n",
              "      <td>(58.754192, -156.694709)</td>\n",
              "    </tr>\n",
              "  </tbody>\n",
              "</table>\n",
              "</div>\n",
              "    <div class=\"colab-df-buttons\">\n",
              "\n",
              "  <div class=\"colab-df-container\">\n",
              "    <button class=\"colab-df-convert\" onclick=\"convertToInteractive('df-c4e700d1-a9f1-4910-9806-bf7dc227f92b')\"\n",
              "            title=\"Convert this dataframe to an interactive table.\"\n",
              "            style=\"display:none;\">\n",
              "\n",
              "  <svg xmlns=\"http://www.w3.org/2000/svg\" height=\"24px\" viewBox=\"0 -960 960 960\">\n",
              "    <path d=\"M120-120v-720h720v720H120Zm60-500h600v-160H180v160Zm220 220h160v-160H400v160Zm0 220h160v-160H400v160ZM180-400h160v-160H180v160Zm440 0h160v-160H620v160ZM180-180h160v-160H180v160Zm440 0h160v-160H620v160Z\"/>\n",
              "  </svg>\n",
              "    </button>\n",
              "\n",
              "  <style>\n",
              "    .colab-df-container {\n",
              "      display:flex;\n",
              "      gap: 12px;\n",
              "    }\n",
              "\n",
              "    .colab-df-convert {\n",
              "      background-color: #E8F0FE;\n",
              "      border: none;\n",
              "      border-radius: 50%;\n",
              "      cursor: pointer;\n",
              "      display: none;\n",
              "      fill: #1967D2;\n",
              "      height: 32px;\n",
              "      padding: 0 0 0 0;\n",
              "      width: 32px;\n",
              "    }\n",
              "\n",
              "    .colab-df-convert:hover {\n",
              "      background-color: #E2EBFA;\n",
              "      box-shadow: 0px 1px 2px rgba(60, 64, 67, 0.3), 0px 1px 3px 1px rgba(60, 64, 67, 0.15);\n",
              "      fill: #174EA6;\n",
              "    }\n",
              "\n",
              "    .colab-df-buttons div {\n",
              "      margin-bottom: 4px;\n",
              "    }\n",
              "\n",
              "    [theme=dark] .colab-df-convert {\n",
              "      background-color: #3B4455;\n",
              "      fill: #D2E3FC;\n",
              "    }\n",
              "\n",
              "    [theme=dark] .colab-df-convert:hover {\n",
              "      background-color: #434B5C;\n",
              "      box-shadow: 0px 1px 3px 1px rgba(0, 0, 0, 0.15);\n",
              "      filter: drop-shadow(0px 1px 2px rgba(0, 0, 0, 0.3));\n",
              "      fill: #FFFFFF;\n",
              "    }\n",
              "  </style>\n",
              "\n",
              "    <script>\n",
              "      const buttonEl =\n",
              "        document.querySelector('#df-c4e700d1-a9f1-4910-9806-bf7dc227f92b button.colab-df-convert');\n",
              "      buttonEl.style.display =\n",
              "        google.colab.kernel.accessAllowed ? 'block' : 'none';\n",
              "\n",
              "      async function convertToInteractive(key) {\n",
              "        const element = document.querySelector('#df-c4e700d1-a9f1-4910-9806-bf7dc227f92b');\n",
              "        const dataTable =\n",
              "          await google.colab.kernel.invokeFunction('convertToInteractive',\n",
              "                                                    [key], {});\n",
              "        if (!dataTable) return;\n",
              "\n",
              "        const docLinkHtml = 'Like what you see? Visit the ' +\n",
              "          '<a target=\"_blank\" href=https://colab.research.google.com/notebooks/data_table.ipynb>data table notebook</a>'\n",
              "          + ' to learn more about interactive tables.';\n",
              "        element.innerHTML = '';\n",
              "        dataTable['output_type'] = 'display_data';\n",
              "        await google.colab.output.renderOutput(dataTable, element);\n",
              "        const docLink = document.createElement('div');\n",
              "        docLink.innerHTML = docLinkHtml;\n",
              "        element.appendChild(docLink);\n",
              "      }\n",
              "    </script>\n",
              "  </div>\n",
              "\n",
              "\n",
              "<div id=\"df-86176050-f809-4fdb-bdaf-e81997d1fab3\">\n",
              "  <button class=\"colab-df-quickchart\" onclick=\"quickchart('df-86176050-f809-4fdb-bdaf-e81997d1fab3')\"\n",
              "            title=\"Suggest charts\"\n",
              "            style=\"display:none;\">\n",
              "\n",
              "<svg xmlns=\"http://www.w3.org/2000/svg\" height=\"24px\"viewBox=\"0 0 24 24\"\n",
              "     width=\"24px\">\n",
              "    <g>\n",
              "        <path d=\"M19 3H5c-1.1 0-2 .9-2 2v14c0 1.1.9 2 2 2h14c1.1 0 2-.9 2-2V5c0-1.1-.9-2-2-2zM9 17H7v-7h2v7zm4 0h-2V7h2v10zm4 0h-2v-4h2v4z\"/>\n",
              "    </g>\n",
              "</svg>\n",
              "  </button>\n",
              "\n",
              "<style>\n",
              "  .colab-df-quickchart {\n",
              "      --bg-color: #E8F0FE;\n",
              "      --fill-color: #1967D2;\n",
              "      --hover-bg-color: #E2EBFA;\n",
              "      --hover-fill-color: #174EA6;\n",
              "      --disabled-fill-color: #AAA;\n",
              "      --disabled-bg-color: #DDD;\n",
              "  }\n",
              "\n",
              "  [theme=dark] .colab-df-quickchart {\n",
              "      --bg-color: #3B4455;\n",
              "      --fill-color: #D2E3FC;\n",
              "      --hover-bg-color: #434B5C;\n",
              "      --hover-fill-color: #FFFFFF;\n",
              "      --disabled-bg-color: #3B4455;\n",
              "      --disabled-fill-color: #666;\n",
              "  }\n",
              "\n",
              "  .colab-df-quickchart {\n",
              "    background-color: var(--bg-color);\n",
              "    border: none;\n",
              "    border-radius: 50%;\n",
              "    cursor: pointer;\n",
              "    display: none;\n",
              "    fill: var(--fill-color);\n",
              "    height: 32px;\n",
              "    padding: 0;\n",
              "    width: 32px;\n",
              "  }\n",
              "\n",
              "  .colab-df-quickchart:hover {\n",
              "    background-color: var(--hover-bg-color);\n",
              "    box-shadow: 0 1px 2px rgba(60, 64, 67, 0.3), 0 1px 3px 1px rgba(60, 64, 67, 0.15);\n",
              "    fill: var(--button-hover-fill-color);\n",
              "  }\n",
              "\n",
              "  .colab-df-quickchart-complete:disabled,\n",
              "  .colab-df-quickchart-complete:disabled:hover {\n",
              "    background-color: var(--disabled-bg-color);\n",
              "    fill: var(--disabled-fill-color);\n",
              "    box-shadow: none;\n",
              "  }\n",
              "\n",
              "  .colab-df-spinner {\n",
              "    border: 2px solid var(--fill-color);\n",
              "    border-color: transparent;\n",
              "    border-bottom-color: var(--fill-color);\n",
              "    animation:\n",
              "      spin 1s steps(1) infinite;\n",
              "  }\n",
              "\n",
              "  @keyframes spin {\n",
              "    0% {\n",
              "      border-color: transparent;\n",
              "      border-bottom-color: var(--fill-color);\n",
              "      border-left-color: var(--fill-color);\n",
              "    }\n",
              "    20% {\n",
              "      border-color: transparent;\n",
              "      border-left-color: var(--fill-color);\n",
              "      border-top-color: var(--fill-color);\n",
              "    }\n",
              "    30% {\n",
              "      border-color: transparent;\n",
              "      border-left-color: var(--fill-color);\n",
              "      border-top-color: var(--fill-color);\n",
              "      border-right-color: var(--fill-color);\n",
              "    }\n",
              "    40% {\n",
              "      border-color: transparent;\n",
              "      border-right-color: var(--fill-color);\n",
              "      border-top-color: var(--fill-color);\n",
              "    }\n",
              "    60% {\n",
              "      border-color: transparent;\n",
              "      border-right-color: var(--fill-color);\n",
              "    }\n",
              "    80% {\n",
              "      border-color: transparent;\n",
              "      border-right-color: var(--fill-color);\n",
              "      border-bottom-color: var(--fill-color);\n",
              "    }\n",
              "    90% {\n",
              "      border-color: transparent;\n",
              "      border-bottom-color: var(--fill-color);\n",
              "    }\n",
              "  }\n",
              "</style>\n",
              "\n",
              "  <script>\n",
              "    async function quickchart(key) {\n",
              "      const quickchartButtonEl =\n",
              "        document.querySelector('#' + key + ' button');\n",
              "      quickchartButtonEl.disabled = true;  // To prevent multiple clicks.\n",
              "      quickchartButtonEl.classList.add('colab-df-spinner');\n",
              "      try {\n",
              "        const charts = await google.colab.kernel.invokeFunction(\n",
              "            'suggestCharts', [key], {});\n",
              "      } catch (error) {\n",
              "        console.error('Error during call to suggestCharts:', error);\n",
              "      }\n",
              "      quickchartButtonEl.classList.remove('colab-df-spinner');\n",
              "      quickchartButtonEl.classList.add('colab-df-quickchart-complete');\n",
              "    }\n",
              "    (() => {\n",
              "      let quickchartButtonEl =\n",
              "        document.querySelector('#df-86176050-f809-4fdb-bdaf-e81997d1fab3 button');\n",
              "      quickchartButtonEl.style.display =\n",
              "        google.colab.kernel.accessAllowed ? 'block' : 'none';\n",
              "    })();\n",
              "  </script>\n",
              "</div>\n",
              "\n",
              "    </div>\n",
              "  </div>\n"
            ]
          },
          "metadata": {},
          "execution_count": 6
        }
      ]
    },
    {
      "cell_type": "code",
      "source": [
        "data.shape"
      ],
      "metadata": {
        "colab": {
          "base_uri": "https://localhost:8080/"
        },
        "id": "_yiTJlEyEl37",
        "outputId": "f529d942-855b-4c96-9566-64a9fae79ed1"
      },
      "execution_count": 7,
      "outputs": [
        {
          "output_type": "execute_result",
          "data": {
            "text/plain": [
              "(59076, 19)"
            ]
          },
          "metadata": {},
          "execution_count": 7
        }
      ]
    },
    {
      "cell_type": "code",
      "source": [
        "data.columns"
      ],
      "metadata": {
        "colab": {
          "base_uri": "https://localhost:8080/"
        },
        "id": "U9W4YId_cofy",
        "outputId": "061693cb-f5d1-47a0-cf9b-dd796e77c0d2"
      },
      "execution_count": 8,
      "outputs": [
        {
          "output_type": "execute_result",
          "data": {
            "text/plain": [
              "Index(['Year', 'LocationAbbr', 'LocationDesc', 'GeographicLevel', 'DataSource',\n",
              "       'Class', 'Topic', 'Data_Value', 'Data_Value_Unit', 'Data_Value_Type',\n",
              "       'Data_Value_Footnote_Symbol', 'Data_Value_Footnote',\n",
              "       'StratificationCategory1', 'Stratification1', 'StratificationCategory2',\n",
              "       'Stratification2', 'TopicID', 'LocationID', 'Location 1'],\n",
              "      dtype='object')"
            ]
          },
          "metadata": {},
          "execution_count": 8
        }
      ]
    },
    {
      "cell_type": "markdown",
      "source": [
        "From the histogram below, it can be seen that data contains a lot of NaN values and they should be handled. Also it can be seen that data is very noisy."
      ],
      "metadata": {
        "id": "8vtqsetPEU25"
      }
    },
    {
      "cell_type": "code",
      "source": [
        "plot_data = data['Data_Value'].fillna(-200) #NaN values are marked as -200\n",
        "sns.histplot(plot_data, bins=30, kde=False, color='turquoise', edgecolor='black')\n",
        "plt.show()"
      ],
      "metadata": {
        "colab": {
          "base_uri": "https://localhost:8080/",
          "height": 450
        },
        "id": "EmT-rZ0NDBJI",
        "outputId": "f3318ab7-5267-4611-9171-c953c144271b"
      },
      "execution_count": 9,
      "outputs": [
        {
          "output_type": "display_data",
          "data": {
            "text/plain": [
              "<Figure size 640x480 with 1 Axes>"
            ],
            "image/png": "[encoded data removed]"
          },
          "metadata": {}
        }
      ]
    },
    {
      "cell_type": "markdown",
      "source": [
        "## Data Preprocessing"
      ],
      "metadata": {
        "id": "EyyNCSgSr5Dx"
      }
    },
    {
      "cell_type": "code",
      "source": [
        "for column in data:   # If there is 1 type of column in the data, drop the column\n",
        "  if len(data[column].unique()) == 1:\n",
        "    print(f\"In {column} column all cells contain {data[column][0]}\")\n",
        "    data = data.drop(column, axis = 1)"
      ],
      "metadata": {
        "id": "mWk2tHfbBAIR",
        "colab": {
          "base_uri": "https://localhost:8080/"
        },
        "outputId": "2a49ce6c-d581-40c2-88db-d38855b7b867"
      },
      "execution_count": 10,
      "outputs": [
        {
          "output_type": "stream",
          "name": "stdout",
          "text": [
            "In Year column all cells contain 2014\n",
            "In DataSource column all cells contain NVSS\n",
            "In Class column all cells contain Cardiovascular Diseases\n",
            "In Topic column all cells contain Heart Disease Mortality\n",
            "In Data_Value_Unit column all cells contain per 100,000 population\n",
            "In StratificationCategory1 column all cells contain Gender\n",
            "In StratificationCategory2 column all cells contain Race/Ethnicity\n",
            "In TopicID column all cells contain T2\n"
          ]
        }
      ]
    },
    {
      "cell_type": "markdown",
      "source": [
        "In LocationDesc, there are 2015 unique values. Too much dimension in values will result in low accuracy, so it should be reduced. LocationAbbr columns are abbreviations of the exact locations, it also generalizes them too. For example, Aleutians East and Aleutians West are both abbreviated as AK. Thus, LocationDesc will be dropped and LocationAbbr will be used in the model."
      ],
      "metadata": {
        "id": "xyzV-jT0J9H-"
      }
    },
    {
      "cell_type": "code",
      "source": [
        "print(f\"LocationDesc : {len(data['LocationDesc'].unique())}\")\n",
        "print(f\"LocationAbbr : {len(data['LocationAbbr'].unique())}\")\n"
      ],
      "metadata": {
        "colab": {
          "base_uri": "https://localhost:8080/"
        },
        "id": "AlOcdqxeIemD",
        "outputId": "48edb8af-df0e-4d9e-bcb2-8dd6b98ccc35"
      },
      "execution_count": 11,
      "outputs": [
        {
          "output_type": "stream",
          "name": "stdout",
          "text": [
            "LocationDesc : 2015\n",
            "LocationAbbr : 57\n"
          ]
        }
      ]
    },
    {
      "cell_type": "code",
      "source": [
        "data = data.drop('LocationDesc', axis = 1)"
      ],
      "metadata": {
        "id": "02nzlgB3Lvr6"
      },
      "execution_count": 12,
      "outputs": []
    },
    {
      "cell_type": "markdown",
      "source": [
        "'Data_Value_Footnote' and 'Data_Value_Footnote_Symbol' are indicators of values being NaN or not. it can already be seen in 'Data_Value' column, so they can be dropped too."
      ],
      "metadata": {
        "id": "1AxQ7il1MqG7"
      }
    },
    {
      "cell_type": "code",
      "source": [
        "print(f\"'Data_Value_Footnote' values : {data['Data_Value_Footnote'].unique()}\")\n",
        "print(f\"'Data_Value_Footnote_Symbol' values : {data['Data_Value_Footnote_Symbol'].unique()}\")"
      ],
      "metadata": {
        "colab": {
          "base_uri": "https://localhost:8080/"
        },
        "id": "kfeg3-nZL36s",
        "outputId": "0780e1bc-2c1d-462b-e8cc-5b17af98dc5a"
      },
      "execution_count": 13,
      "outputs": [
        {
          "output_type": "stream",
          "name": "stdout",
          "text": [
            "'Data_Value_Footnote' values : [nan 'Insufficient Data']\n",
            "'Data_Value_Footnote_Symbol' values : [nan '~']\n"
          ]
        }
      ]
    },
    {
      "cell_type": "code",
      "source": [
        "data = data.drop(['Data_Value_Footnote_Symbol', 'Data_Value_Footnote'], axis = 1)"
      ],
      "metadata": {
        "id": "go-I00VRNU4L"
      },
      "execution_count": 14,
      "outputs": []
    },
    {
      "cell_type": "markdown",
      "source": [
        "LocationID won't be necessary for the prediction process. So it can be dropped."
      ],
      "metadata": {
        "id": "32XxzDVIT8oC"
      }
    },
    {
      "cell_type": "code",
      "source": [
        "data = data.drop('LocationID', axis = 1)"
      ],
      "metadata": {
        "id": "M2GIcvwaUBOW"
      },
      "execution_count": 15,
      "outputs": []
    },
    {
      "cell_type": "code",
      "source": [
        "data"
      ],
      "metadata": {
        "id": "5rwT6-YFBCYo",
        "colab": {
          "base_uri": "https://localhost:8080/",
          "height": 424
        },
        "outputId": "de1804c7-dcb6-48d7-cd4d-09436b41ecf9"
      },
      "execution_count": 16,
      "outputs": [
        {
          "output_type": "execute_result",
          "data": {
            "text/plain": [
              "      LocationAbbr GeographicLevel  Data_Value  \\\n",
              "0               AK          County       105.3   \n",
              "1               AK          County       211.9   \n",
              "2               AK          County       257.9   \n",
              "3               AK          County       351.6   \n",
              "4               AK          County         NaN   \n",
              "...            ...             ...         ...   \n",
              "59071           TX          County         NaN   \n",
              "59072           TX          County         NaN   \n",
              "59073           IA          County         NaN   \n",
              "59074           WV          County         NaN   \n",
              "59075           KS          County         NaN   \n",
              "\n",
              "                                         Data_Value_Type Stratification1  \\\n",
              "0      Age-adjusted, Spatially Smoothed, 3-year Avera...         Overall   \n",
              "1      Age-adjusted, Spatially Smoothed, 3-year Avera...         Overall   \n",
              "2      Age-adjusted, Spatially Smoothed, 3-year Avera...         Overall   \n",
              "3      Age-adjusted, Spatially Smoothed, 3-year Avera...         Overall   \n",
              "4      Age-adjusted, Spatially Smoothed, 3-year Avera...         Overall   \n",
              "...                                                  ...             ...   \n",
              "59071  Age-adjusted, Spatially Smoothed, 3-year Avera...            Male   \n",
              "59072  Age-adjusted, Spatially Smoothed, 3-year Avera...            Male   \n",
              "59073  Age-adjusted, Spatially Smoothed, 3-year Avera...          Female   \n",
              "59074  Age-adjusted, Spatially Smoothed, 3-year Avera...          Female   \n",
              "59075  Age-adjusted, Spatially Smoothed, 3-year Avera...          Female   \n",
              "\n",
              "                  Stratification2                Location 1  \n",
              "0                         Overall  (55.440626, -161.962562)  \n",
              "1                         Overall  (52.995403, -170.251538)  \n",
              "2                         Overall  (61.159049, -149.103905)  \n",
              "3                         Overall  (60.924483, -159.749655)  \n",
              "4                         Overall  (58.754192, -156.694709)  \n",
              "...                           ...                       ...  \n",
              "59071  Asian and Pacific Islander  (33.613697, -101.820878)  \n",
              "59072                       Black  (32.306972, -100.919542)  \n",
              "59073  Asian and Pacific Islander    (43.375754, -93.73907)  \n",
              "59074  Asian and Pacific Islander   (38.995666, -80.505332)  \n",
              "59075  Asian and Pacific Islander    (39.82459, -97.646162)  \n",
              "\n",
              "[59076 rows x 7 columns]"
            ],
            "text/html": [
              "\n",
              "  <div id=\"df-b4f204ad-d869-42cf-be1a-c64e16804d14\" class=\"colab-df-container\">\n",
              "    <div>\n",
              "<style scoped>\n",
              "    .dataframe tbody tr th:only-of-type {\n",
              "        vertical-align: middle;\n",
              "    }\n",
              "\n",
              "    .dataframe tbody tr th {\n",
              "        vertical-align: top;\n",
              "    }\n",
              "\n",
              "    .dataframe thead th {\n",
              "        text-align: right;\n",
              "    }\n",
              "</style>\n",
              "<table border=\"1\" class=\"dataframe\">\n",
              "  <thead>\n",
              "    <tr style=\"text-align: right;\">\n",
              "      <th></th>\n",
              "      <th>LocationAbbr</th>\n",
              "      <th>GeographicLevel</th>\n",
              "      <th>Data_Value</th>\n",
              "      <th>Data_Value_Type</th>\n",
              "      <th>Stratification1</th>\n",
              "      <th>Stratification2</th>\n",
              "      <th>Location 1</th>\n",
              "    </tr>\n",
              "  </thead>\n",
              "  <tbody>\n",
              "    <tr>\n",
              "      <th>0</th>\n",
              "      <td>AK</td>\n",
              "      <td>County</td>\n",
              "      <td>105.3</td>\n",
              "      <td>Age-adjusted, Spatially Smoothed, 3-year Avera...</td>\n",
              "      <td>Overall</td>\n",
              "      <td>Overall</td>\n",
              "      <td>(55.440626, -161.962562)</td>\n",
              "    </tr>\n",
              "    <tr>\n",
              "      <th>1</th>\n",
              "      <td>AK</td>\n",
              "      <td>County</td>\n",
              "      <td>211.9</td>\n",
              "      <td>Age-adjusted, Spatially Smoothed, 3-year Avera...</td>\n",
              "      <td>Overall</td>\n",
              "      <td>Overall</td>\n",
              "      <td>(52.995403, -170.251538)</td>\n",
              "    </tr>\n",
              "    <tr>\n",
              "      <th>2</th>\n",
              "      <td>AK</td>\n",
              "      <td>County</td>\n",
              "      <td>257.9</td>\n",
              "      <td>Age-adjusted, Spatially Smoothed, 3-year Avera...</td>\n",
              "      <td>Overall</td>\n",
              "      <td>Overall</td>\n",
              "      <td>(61.159049, -149.103905)</td>\n",
              "    </tr>\n",
              "    <tr>\n",
              "      <th>3</th>\n",
              "      <td>AK</td>\n",
              "      <td>County</td>\n",
              "      <td>351.6</td>\n",
              "      <td>Age-adjusted, Spatially Smoothed, 3-year Avera...</td>\n",
              "      <td>Overall</td>\n",
              "      <td>Overall</td>\n",
              "      <td>(60.924483, -159.749655)</td>\n",
              "    </tr>\n",
              "    <tr>\n",
              "      <th>4</th>\n",
              "      <td>AK</td>\n",
              "      <td>County</td>\n",
              "      <td>NaN</td>\n",
              "      <td>Age-adjusted, Spatially Smoothed, 3-year Avera...</td>\n",
              "      <td>Overall</td>\n",
              "      <td>Overall</td>\n",
              "      <td>(58.754192, -156.694709)</td>\n",
              "    </tr>\n",
              "    <tr>\n",
              "      <th>...</th>\n",
              "      <td>...</td>\n",
              "      <td>...</td>\n",
              "      <td>...</td>\n",
              "      <td>...</td>\n",
              "      <td>...</td>\n",
              "      <td>...</td>\n",
              "      <td>...</td>\n",
              "    </tr>\n",
              "    <tr>\n",
              "      <th>59071</th>\n",
              "      <td>TX</td>\n",
              "      <td>County</td>\n",
              "      <td>NaN</td>\n",
              "      <td>Age-adjusted, Spatially Smoothed, 3-year Avera...</td>\n",
              "      <td>Male</td>\n",
              "      <td>Asian and Pacific Islander</td>\n",
              "      <td>(33.613697, -101.820878)</td>\n",
              "    </tr>\n",
              "    <tr>\n",
              "      <th>59072</th>\n",
              "      <td>TX</td>\n",
              "      <td>County</td>\n",
              "      <td>NaN</td>\n",
              "      <td>Age-adjusted, Spatially Smoothed, 3-year Avera...</td>\n",
              "      <td>Male</td>\n",
              "      <td>Black</td>\n",
              "      <td>(32.306972, -100.919542)</td>\n",
              "    </tr>\n",
              "    <tr>\n",
              "      <th>59073</th>\n",
              "      <td>IA</td>\n",
              "      <td>County</td>\n",
              "      <td>NaN</td>\n",
              "      <td>Age-adjusted, Spatially Smoothed, 3-year Avera...</td>\n",
              "      <td>Female</td>\n",
              "      <td>Asian and Pacific Islander</td>\n",
              "      <td>(43.375754, -93.73907)</td>\n",
              "    </tr>\n",
              "    <tr>\n",
              "      <th>59074</th>\n",
              "      <td>WV</td>\n",
              "      <td>County</td>\n",
              "      <td>NaN</td>\n",
              "      <td>Age-adjusted, Spatially Smoothed, 3-year Avera...</td>\n",
              "      <td>Female</td>\n",
              "      <td>Asian and Pacific Islander</td>\n",
              "      <td>(38.995666, -80.505332)</td>\n",
              "    </tr>\n",
              "    <tr>\n",
              "      <th>59075</th>\n",
              "      <td>KS</td>\n",
              "      <td>County</td>\n",
              "      <td>NaN</td>\n",
              "      <td>Age-adjusted, Spatially Smoothed, 3-year Avera...</td>\n",
              "      <td>Female</td>\n",
              "      <td>Asian and Pacific Islander</td>\n",
              "      <td>(39.82459, -97.646162)</td>\n",
              "    </tr>\n",
              "  </tbody>\n",
              "</table>\n",
              "<p>59076 rows × 7 columns</p>\n",
              "</div>\n",
              "    <div class=\"colab-df-buttons\">\n",
              "\n",
              "  <div class=\"colab-df-container\">\n",
              "    <button class=\"colab-df-convert\" onclick=\"convertToInteractive('df-b4f204ad-d869-42cf-be1a-c64e16804d14')\"\n",
              "            title=\"Convert this dataframe to an interactive table.\"\n",
              "            style=\"display:none;\">\n",
              "\n",
              "  <svg xmlns=\"http://www.w3.org/2000/svg\" height=\"24px\" viewBox=\"0 -960 960 960\">\n",
              "    <path d=\"M120-120v-720h720v720H120Zm60-500h600v-160H180v160Zm220 220h160v-160H400v160Zm0 220h160v-160H400v160ZM180-400h160v-160H180v160Zm440 0h160v-160H620v160ZM180-180h160v-160H180v160Zm440 0h160v-160H620v160Z\"/>\n",
              "  </svg>\n",
              "    </button>\n",
              "\n",
              "  <style>\n",
              "    .colab-df-container {\n",
              "      display:flex;\n",
              "      gap: 12px;\n",
              "    }\n",
              "\n",
              "    .colab-df-convert {\n",
              "      background-color: #E8F0FE;\n",
              "      border: none;\n",
              "      border-radius: 50%;\n",
              "      cursor: pointer;\n",
              "      display: none;\n",
              "      fill: #1967D2;\n",
              "      height: 32px;\n",
              "      padding: 0 0 0 0;\n",
              "      width: 32px;\n",
              "    }\n",
              "\n",
              "    .colab-df-convert:hover {\n",
              "      background-color: #E2EBFA;\n",
              "      box-shadow: 0px 1px 2px rgba(60, 64, 67, 0.3), 0px 1px 3px 1px rgba(60, 64, 67, 0.15);\n",
              "      fill: #174EA6;\n",
              "    }\n",
              "\n",
              "    .colab-df-buttons div {\n",
              "      margin-bottom: 4px;\n",
              "    }\n",
              "\n",
              "    [theme=dark] .colab-df-convert {\n",
              "      background-color: #3B4455;\n",
              "      fill: #D2E3FC;\n",
              "    }\n",
              "\n",
              "    [theme=dark] .colab-df-convert:hover {\n",
              "      background-color: #434B5C;\n",
              "      box-shadow: 0px 1px 3px 1px rgba(0, 0, 0, 0.15);\n",
              "      filter: drop-shadow(0px 1px 2px rgba(0, 0, 0, 0.3));\n",
              "      fill: #FFFFFF;\n",
              "    }\n",
              "  </style>\n",
              "\n",
              "    <script>\n",
              "      const buttonEl =\n",
              "        document.querySelector('#df-b4f204ad-d869-42cf-be1a-c64e16804d14 button.colab-df-convert');\n",
              "      buttonEl.style.display =\n",
              "        google.colab.kernel.accessAllowed ? 'block' : 'none';\n",
              "\n",
              "      async function convertToInteractive(key) {\n",
              "        const element = document.querySelector('#df-b4f204ad-d869-42cf-be1a-c64e16804d14');\n",
              "        const dataTable =\n",
              "          await google.colab.kernel.invokeFunction('convertToInteractive',\n",
              "                                                    [key], {});\n",
              "        if (!dataTable) return;\n",
              "\n",
              "        const docLinkHtml = 'Like what you see? Visit the ' +\n",
              "          '<a target=\"_blank\" href=https://colab.research.google.com/notebooks/data_table.ipynb>data table notebook</a>'\n",
              "          + ' to learn more about interactive tables.';\n",
              "        element.innerHTML = '';\n",
              "        dataTable['output_type'] = 'display_data';\n",
              "        await google.colab.output.renderOutput(dataTable, element);\n",
              "        const docLink = document.createElement('div');\n",
              "        docLink.innerHTML = docLinkHtml;\n",
              "        element.appendChild(docLink);\n",
              "      }\n",
              "    </script>\n",
              "  </div>\n",
              "\n",
              "\n",
              "<div id=\"df-d6246c4e-e00a-44f1-8c95-799a77982e9d\">\n",
              "  <button class=\"colab-df-quickchart\" onclick=\"quickchart('df-d6246c4e-e00a-44f1-8c95-799a77982e9d')\"\n",
              "            title=\"Suggest charts\"\n",
              "            style=\"display:none;\">\n",
              "\n",
              "<svg xmlns=\"http://www.w3.org/2000/svg\" height=\"24px\"viewBox=\"0 0 24 24\"\n",
              "     width=\"24px\">\n",
              "    <g>\n",
              "        <path d=\"M19 3H5c-1.1 0-2 .9-2 2v14c0 1.1.9 2 2 2h14c1.1 0 2-.9 2-2V5c0-1.1-.9-2-2-2zM9 17H7v-7h2v7zm4 0h-2V7h2v10zm4 0h-2v-4h2v4z\"/>\n",
              "    </g>\n",
              "</svg>\n",
              "  </button>\n",
              "\n",
              "<style>\n",
              "  .colab-df-quickchart {\n",
              "      --bg-color: #E8F0FE;\n",
              "      --fill-color: #1967D2;\n",
              "      --hover-bg-color: #E2EBFA;\n",
              "      --hover-fill-color: #174EA6;\n",
              "      --disabled-fill-color: #AAA;\n",
              "      --disabled-bg-color: #DDD;\n",
              "  }\n",
              "\n",
              "  [theme=dark] .colab-df-quickchart {\n",
              "      --bg-color: #3B4455;\n",
              "      --fill-color: #D2E3FC;\n",
              "      --hover-bg-color: #434B5C;\n",
              "      --hover-fill-color: #FFFFFF;\n",
              "      --disabled-bg-color: #3B4455;\n",
              "      --disabled-fill-color: #666;\n",
              "  }\n",
              "\n",
              "  .colab-df-quickchart {\n",
              "    background-color: var(--bg-color);\n",
              "    border: none;\n",
              "    border-radius: 50%;\n",
              "    cursor: pointer;\n",
              "    display: none;\n",
              "    fill: var(--fill-color);\n",
              "    height: 32px;\n",
              "    padding: 0;\n",
              "    width: 32px;\n",
              "  }\n",
              "\n",
              "  .colab-df-quickchart:hover {\n",
              "    background-color: var(--hover-bg-color);\n",
              "    box-shadow: 0 1px 2px rgba(60, 64, 67, 0.3), 0 1px 3px 1px rgba(60, 64, 67, 0.15);\n",
              "    fill: var(--button-hover-fill-color);\n",
              "  }\n",
              "\n",
              "  .colab-df-quickchart-complete:disabled,\n",
              "  .colab-df-quickchart-complete:disabled:hover {\n",
              "    background-color: var(--disabled-bg-color);\n",
              "    fill: var(--disabled-fill-color);\n",
              "    box-shadow: none;\n",
              "  }\n",
              "\n",
              "  .colab-df-spinner {\n",
              "    border: 2px solid var(--fill-color);\n",
              "    border-color: transparent;\n",
              "    border-bottom-color: var(--fill-color);\n",
              "    animation:\n",
              "      spin 1s steps(1) infinite;\n",
              "  }\n",
              "\n",
              "  @keyframes spin {\n",
              "    0% {\n",
              "      border-color: transparent;\n",
              "      border-bottom-color: var(--fill-color);\n",
              "      border-left-color: var(--fill-color);\n",
              "    }\n",
              "    20% {\n",
              "      border-color: transparent;\n",
              "      border-left-color: var(--fill-color);\n",
              "      border-top-color: var(--fill-color);\n",
              "    }\n",
              "    30% {\n",
              "      border-color: transparent;\n",
              "      border-left-color: var(--fill-color);\n",
              "      border-top-color: var(--fill-color);\n",
              "      border-right-color: var(--fill-color);\n",
              "    }\n",
              "    40% {\n",
              "      border-color: transparent;\n",
              "      border-right-color: var(--fill-color);\n",
              "      border-top-color: var(--fill-color);\n",
              "    }\n",
              "    60% {\n",
              "      border-color: transparent;\n",
              "      border-right-color: var(--fill-color);\n",
              "    }\n",
              "    80% {\n",
              "      border-color: transparent;\n",
              "      border-right-color: var(--fill-color);\n",
              "      border-bottom-color: var(--fill-color);\n",
              "    }\n",
              "    90% {\n",
              "      border-color: transparent;\n",
              "      border-bottom-color: var(--fill-color);\n",
              "    }\n",
              "  }\n",
              "</style>\n",
              "\n",
              "  <script>\n",
              "    async function quickchart(key) {\n",
              "      const quickchartButtonEl =\n",
              "        document.querySelector('#' + key + ' button');\n",
              "      quickchartButtonEl.disabled = true;  // To prevent multiple clicks.\n",
              "      quickchartButtonEl.classList.add('colab-df-spinner');\n",
              "      try {\n",
              "        const charts = await google.colab.kernel.invokeFunction(\n",
              "            'suggestCharts', [key], {});\n",
              "      } catch (error) {\n",
              "        console.error('Error during call to suggestCharts:', error);\n",
              "      }\n",
              "      quickchartButtonEl.classList.remove('colab-df-spinner');\n",
              "      quickchartButtonEl.classList.add('colab-df-quickchart-complete');\n",
              "    }\n",
              "    (() => {\n",
              "      let quickchartButtonEl =\n",
              "        document.querySelector('#df-d6246c4e-e00a-44f1-8c95-799a77982e9d button');\n",
              "      quickchartButtonEl.style.display =\n",
              "        google.colab.kernel.accessAllowed ? 'block' : 'none';\n",
              "    })();\n",
              "  </script>\n",
              "</div>\n",
              "\n",
              "  <div id=\"id_5d5ab256-63a2-4f36-aefb-84ebbe6b593d\">\n",
              "    <style>\n",
              "      .colab-df-generate {\n",
              "        background-color: #E8F0FE;\n",
              "        border: none;\n",
              "        border-radius: 50%;\n",
              "        cursor: pointer;\n",
              "        display: none;\n",
              "        fill: #1967D2;\n",
              "        height: 32px;\n",
              "        padding: 0 0 0 0;\n",
              "        width: 32px;\n",
              "      }\n",
              "\n",
              "      .colab-df-generate:hover {\n",
              "        background-color: #E2EBFA;\n",
              "        box-shadow: 0px 1px 2px rgba(60, 64, 67, 0.3), 0px 1px 3px 1px rgba(60, 64, 67, 0.15);\n",
              "        fill: #174EA6;\n",
              "      }\n",
              "\n",
              "      [theme=dark] .colab-df-generate {\n",
              "        background-color: #3B4455;\n",
              "        fill: #D2E3FC;\n",
              "      }\n",
              "\n",
              "      [theme=dark] .colab-df-generate:hover {\n",
              "        background-color: #434B5C;\n",
              "        box-shadow: 0px 1px 3px 1px rgba(0, 0, 0, 0.15);\n",
              "        filter: drop-shadow(0px 1px 2px rgba(0, 0, 0, 0.3));\n",
              "        fill: #FFFFFF;\n",
              "      }\n",
              "    </style>\n",
              "    <button class=\"colab-df-generate\" onclick=\"generateWithVariable('data')\"\n",
              "            title=\"Generate code using this dataframe.\"\n",
              "            style=\"display:none;\">\n",
              "\n",
              "  <svg xmlns=\"http://www.w3.org/2000/svg\" height=\"24px\"viewBox=\"0 0 24 24\"\n",
              "       width=\"24px\">\n",
              "    <path d=\"M7,19H8.4L18.45,9,17,7.55,7,17.6ZM5,21V16.75L18.45,3.32a2,2,0,0,1,2.83,0l1.4,1.43a1.91,1.91,0,0,1,.58,1.4,1.91,1.91,0,0,1-.58,1.4L9.25,21ZM18.45,9,17,7.55Zm-12,3A5.31,5.31,0,0,0,4.9,8.1,5.31,5.31,0,0,0,1,6.5,5.31,5.31,0,0,0,4.9,4.9,5.31,5.31,0,0,0,6.5,1,5.31,5.31,0,0,0,8.1,4.9,5.31,5.31,0,0,0,12,6.5,5.46,5.46,0,0,0,6.5,12Z\"/>\n",
              "  </svg>\n",
              "    </button>\n",
              "    <script>\n",
              "      (() => {\n",
              "      const buttonEl =\n",
              "        document.querySelector('#id_5d5ab256-63a2-4f36-aefb-84ebbe6b593d button.colab-df-generate');\n",
              "      buttonEl.style.display =\n",
              "        google.colab.kernel.accessAllowed ? 'block' : 'none';\n",
              "\n",
              "      buttonEl.onclick = () => {\n",
              "        google.colab.notebook.generateWithVariable('data');\n",
              "      }\n",
              "      })();\n",
              "    </script>\n",
              "  </div>\n",
              "\n",
              "    </div>\n",
              "  </div>\n"
            ]
          },
          "metadata": {},
          "execution_count": 16
        }
      ]
    },
    {
      "cell_type": "markdown",
      "source": [
        "- Rename LocationAbbr as location\n",
        "\n",
        "- Rename GeographicLevel as geographic_level\n",
        "\n",
        "- Rename Data_Value as mortality\n",
        "\n",
        "- Rename Data_Value_Type as mortality_type\n",
        "\n",
        "- Rename Stratification1 as gender\n",
        "\n",
        "- Rename Stratification2 as race\n",
        "\n",
        "- Rename Location 1 as coordinates"
      ],
      "metadata": {
        "id": "4MDtUr6jB064"
      }
    },
    {
      "cell_type": "code",
      "source": [
        "data.columns"
      ],
      "metadata": {
        "colab": {
          "base_uri": "https://localhost:8080/"
        },
        "id": "gHjhkbDCdSUZ",
        "outputId": "cb154279-30c5-4feb-8ee3-adb711f8ccc1"
      },
      "execution_count": 17,
      "outputs": [
        {
          "output_type": "execute_result",
          "data": {
            "text/plain": [
              "Index(['LocationAbbr', 'GeographicLevel', 'Data_Value', 'Data_Value_Type',\n",
              "       'Stratification1', 'Stratification2', 'Location 1'],\n",
              "      dtype='object')"
            ]
          },
          "metadata": {},
          "execution_count": 17
        }
      ]
    },
    {
      "cell_type": "code",
      "source": [
        "data = data.rename(columns = {'LocationAbbr' : 'location' , 'GeographicLevel' : 'geographic_level' ,'Data_Value' : 'mortality','Data_Value_Type' : 'mortality_type', 'Stratification1' : 'gender', 'Stratification2' : 'race', 'Location 1' : 'coordinates'})"
      ],
      "metadata": {
        "id": "pOSVhKTKB1pL"
      },
      "execution_count": null,
      "outputs": []
    },
    {
      "cell_type": "markdown",
      "source": [
        "From the outputs below, it can be concluded that:"
      ],
      "metadata": {
        "id": "VW83R7N3BLOX"
      }
    },
    {
      "cell_type": "markdown",
      "source": [
        "1 - location should be LabelEncoded"
      ],
      "metadata": {
        "id": "1MirW7px12TW"
      }
    },
    {
      "cell_type": "code",
      "source": [
        "from sklearn.preprocessing import LabelEncoder"
      ],
      "metadata": {
        "id": "GQvw1GZQs-6F"
      },
      "execution_count": null,
      "outputs": []
    },
    {
      "cell_type": "code",
      "source": [
        "le = LabelEncoder()\n",
        "location_encoded = le.fit_transform(data['location'])\n",
        "location_encoded = pd.DataFrame(location_encoded, columns = ['location'])\n",
        "\n",
        "data = data.drop('location', axis = 1)\n",
        "\n",
        "data.insert(0, 'location' ,location_encoded)"
      ],
      "metadata": {
        "id": "M2b_UuKIsfNS"
      },
      "execution_count": null,
      "outputs": []
    },
    {
      "cell_type": "markdown",
      "source": [
        "2 - In geographic level, there is 58050 rows which is 'County' in 59000 rows. The ones that is not 'County' could be dropped since their contribution to mddel would be insignificant. After that, geographic_level column will also be dropped since it has 1 unique value. This way, not only data is simplified, also dimensions are reduced."
      ],
      "metadata": {
        "id": "89zDYdwu14lg"
      }
    },
    {
      "cell_type": "code",
      "source": [
        "data = data[data['geographic_level'] == 'County']\n",
        "data = data.drop('geographic_level', axis = 1)"
      ],
      "metadata": {
        "id": "D6qXLXB01dWE"
      },
      "execution_count": null,
      "outputs": []
    },
    {
      "cell_type": "markdown",
      "source": [
        "3 - mortality should be cleaned and its null values handled. This will be handled after the others."
      ],
      "metadata": {
        "id": "14Ug2J9k4mvp"
      }
    },
    {
      "cell_type": "markdown",
      "source": [
        "4 - mortality_type should be handled in a different way or One-Hot Encoded"
      ],
      "metadata": {
        "id": "9ByAhf_S4pxC"
      }
    },
    {
      "cell_type": "code",
      "source": [
        "print(f\"Mortality Type column has only : {data['mortality_type'].unique()}\") # It has 1 unique value so column will be dropped.\n",
        "data = data.drop('mortality_type', axis = 1)"
      ],
      "metadata": {
        "colab": {
          "base_uri": "https://localhost:8080/"
        },
        "id": "qocjp5gW4ovx",
        "outputId": "95ac9086-490c-4bf1-d9a5-83ae111edf67"
      },
      "execution_count": null,
      "outputs": [
        {
          "output_type": "stream",
          "name": "stdout",
          "text": [
            "Mortality Type column has only : ['Age-adjusted, Spatially Smoothed, 3-year Average Rate']\n"
          ]
        }
      ]
    },
    {
      "cell_type": "markdown",
      "source": [
        "5 - gender should be One-Hot Encoded"
      ],
      "metadata": {
        "id": "JMdSLaDe4sgw"
      }
    },
    {
      "cell_type": "code",
      "source": [
        "gender_encoded = pd.get_dummies(data['gender'])\n",
        "gender_encoded = gender_encoded.rename(columns = {'Overall' : 'Overall_Gender'})\n",
        "\n",
        "data = data.drop('gender', axis = 1)\n",
        "data = pd.concat([data, gender_encoded], axis = 1)"
      ],
      "metadata": {
        "id": "xkEKrcEm4trc"
      },
      "execution_count": null,
      "outputs": []
    },
    {
      "cell_type": "markdown",
      "source": [
        "6 - race should be One-Hot Encoded"
      ],
      "metadata": {
        "id": "kjwAGltA4xRk"
      }
    },
    {
      "cell_type": "code",
      "source": [
        "race_encoded = pd.get_dummies(data['race'])\n",
        "race_encoded = race_encoded.rename(columns = {'Overall' : 'Overall_Race'})\n",
        "\n",
        "data = data.drop('race', axis = 1)\n",
        "data = pd.concat([data, race_encoded], axis = 1)"
      ],
      "metadata": {
        "id": "ghOgwzTO4x1q"
      },
      "execution_count": null,
      "outputs": []
    },
    {
      "cell_type": "markdown",
      "source": [
        "7 - coordinates should be replaced with their euclidian values"
      ],
      "metadata": {
        "id": "kr1C0yAn4zq3"
      }
    },
    {
      "cell_type": "code",
      "source": [
        "def euclidean_distance(coord_str):\n",
        "    coordinates = np.array([float(x) for x in coord_str[1:-1].split(\",\")])\n",
        "    return \"{:.2f}\".format(np.linalg.norm(coordinates))"
      ],
      "metadata": {
        "id": "zeo41qKnA5je"
      },
      "execution_count": null,
      "outputs": []
    },
    {
      "cell_type": "code",
      "source": [
        "data['coordinates'] = data['coordinates'].apply(euclidean_distance)"
      ],
      "metadata": {
        "id": "e1yDicuE4z_9"
      },
      "execution_count": null,
      "outputs": []
    },
    {
      "cell_type": "code",
      "source": [
        "data.isnull().sum()"
      ],
      "metadata": {
        "id": "3Frc9mCzF2Gr",
        "colab": {
          "base_uri": "https://localhost:8080/"
        },
        "outputId": "e3651840-12ef-42c4-b015-bdb4c38ccc65"
      },
      "execution_count": null,
      "outputs": [
        {
          "output_type": "execute_result",
          "data": {
            "text/plain": [
              "location                                  0\n",
              "mortality                             26745\n",
              "coordinates                               0\n",
              "Female                                    0\n",
              "Male                                      0\n",
              "Overall_Gender                            0\n",
              "American Indian and Alaskan Native        0\n",
              "Asian and Pacific Islander                0\n",
              "Black                                     0\n",
              "Hispanic                                  0\n",
              "Overall_Race                              0\n",
              "White                                     0\n",
              "dtype: int64"
            ]
          },
          "metadata": {},
          "execution_count": 25
        }
      ]
    },
    {
      "cell_type": "markdown",
      "source": [
        "There is a awful lot NaN values in mortality column. Multiple solutions will be tried on this.\n",
        "\n",
        "All solutions will be checked and the method with the best performance will be used."
      ],
      "metadata": {
        "id": "noeJ85A5-_UO"
      }
    },
    {
      "cell_type": "markdown",
      "source": [
        "1 - Multiple Imputation (MICE Imputation)"
      ],
      "metadata": {
        "id": "TYZaWenhZTRN"
      }
    },
    {
      "cell_type": "code",
      "source": [
        "from sklearn.experimental import enable_iterative_imputer\n",
        "from sklearn.impute import IterativeImputer"
      ],
      "metadata": {
        "id": "Mz6U7Aptae1K"
      },
      "execution_count": null,
      "outputs": []
    },
    {
      "cell_type": "code",
      "source": [
        "mice_imputer = IterativeImputer(random_state=100, max_iter=30)\n",
        "mice_imputer.fit(data) #takes a while"
      ],
      "metadata": {
        "colab": {
          "base_uri": "https://localhost:8080/",
          "height": 75
        },
        "id": "BJnGur54ZiFT",
        "outputId": "d9f7c385-073c-494a-ba11-18f3b7fc724f"
      },
      "execution_count": null,
      "outputs": [
        {
          "output_type": "execute_result",
          "data": {
            "text/plain": [
              "IterativeImputer(max_iter=30, random_state=100)"
            ],
            "text/html": [
              "<style>#sk-container-id-1 {color: black;background-color: white;}#sk-container-id-1 pre{padding: 0;}#sk-container-id-1 div.sk-toggleable {background-color: white;}#sk-container-id-1 label.sk-toggleable__label {cursor: pointer;display: block;width: 100%;margin-bottom: 0;padding: 0.3em;box-sizing: border-box;text-align: center;}#sk-container-id-1 label.sk-toggleable__label-arrow:before {content: \"▸\";float: left;margin-right: 0.25em;color: #696969;}#sk-container-id-1 label.sk-toggleable__label-arrow:hover:before {color: black;}#sk-container-id-1 div.sk-estimator:hover label.sk-toggleable__label-arrow:before {color: black;}#sk-container-id-1 div.sk-toggleable__content {max-height: 0;max-width: 0;overflow: hidden;text-align: left;background-color: #f0f8ff;}#sk-container-id-1 div.sk-toggleable__content pre {margin: 0.2em;color: black;border-radius: 0.25em;background-color: #f0f8ff;}#sk-container-id-1 input.sk-toggleable__control:checked~div.sk-toggleable__content {max-height: 200px;max-width: 100%;overflow: auto;}#sk-container-id-1 input.sk-toggleable__control:checked~label.sk-toggleable__label-arrow:before {content: \"▾\";}#sk-container-id-1 div.sk-estimator input.sk-toggleable__control:checked~label.sk-toggleable__label {background-color: #d4ebff;}#sk-container-id-1 div.sk-label input.sk-toggleable__control:checked~label.sk-toggleable__label {background-color: #d4ebff;}#sk-container-id-1 input.sk-hidden--visually {border: 0;clip: rect(1px 1px 1px 1px);clip: rect(1px, 1px, 1px, 1px);height: 1px;margin: -1px;overflow: hidden;padding: 0;position: absolute;width: 1px;}#sk-container-id-1 div.sk-estimator {font-family: monospace;background-color: #f0f8ff;border: 1px dotted black;border-radius: 0.25em;box-sizing: border-box;margin-bottom: 0.5em;}#sk-container-id-1 div.sk-estimator:hover {background-color: #d4ebff;}#sk-container-id-1 div.sk-parallel-item::after {content: \"\";width: 100%;border-bottom: 1px solid gray;flex-grow: 1;}#sk-container-id-1 div.sk-label:hover label.sk-toggleable__label {background-color: #d4ebff;}#sk-container-id-1 div.sk-serial::before {content: \"\";position: absolute;border-left: 1px solid gray;box-sizing: border-box;top: 0;bottom: 0;left: 50%;z-index: 0;}#sk-container-id-1 div.sk-serial {display: flex;flex-direction: column;align-items: center;background-color: white;padding-right: 0.2em;padding-left: 0.2em;position: relative;}#sk-container-id-1 div.sk-item {position: relative;z-index: 1;}#sk-container-id-1 div.sk-parallel {display: flex;align-items: stretch;justify-content: center;background-color: white;position: relative;}#sk-container-id-1 div.sk-item::before, #sk-container-id-1 div.sk-parallel-item::before {content: \"\";position: absolute;border-left: 1px solid gray;box-sizing: border-box;top: 0;bottom: 0;left: 50%;z-index: -1;}#sk-container-id-1 div.sk-parallel-item {display: flex;flex-direction: column;z-index: 1;position: relative;background-color: white;}#sk-container-id-1 div.sk-parallel-item:first-child::after {align-self: flex-end;width: 50%;}#sk-container-id-1 div.sk-parallel-item:last-child::after {align-self: flex-start;width: 50%;}#sk-container-id-1 div.sk-parallel-item:only-child::after {width: 0;}#sk-container-id-1 div.sk-dashed-wrapped {border: 1px dashed gray;margin: 0 0.4em 0.5em 0.4em;box-sizing: border-box;padding-bottom: 0.4em;background-color: white;}#sk-container-id-1 div.sk-label label {font-family: monospace;font-weight: bold;display: inline-block;line-height: 1.2em;}#sk-container-id-1 div.sk-label-container {text-align: center;}#sk-container-id-1 div.sk-container {/* jupyter's `normalize.less` sets `[hidden] { display: none; }` but bootstrap.min.css set `[hidden] { display: none !important; }` so we also need the `!important` here to be able to override the default hidden behavior on the sphinx rendered scikit-learn.org. See: https://github.com/scikit-learn/scikit-learn/issues/21755 */display: inline-block !important;position: relative;}#sk-container-id-1 div.sk-text-repr-fallback {display: none;}</style><div id=\"sk-container-id-1\" class=\"sk-top-container\"><div class=\"sk-text-repr-fallback\"><pre>IterativeImputer(max_iter=30, random_state=100)</pre><b>In a Jupyter environment, please rerun this cell to show the HTML representation or trust the notebook. <br />On GitHub, the HTML representation is unable to render, please try loading this page with nbviewer.org.</b></div><div class=\"sk-container\" hidden><div class=\"sk-item\"><div class=\"sk-estimator sk-toggleable\"><input class=\"sk-toggleable__control sk-hidden--visually\" id=\"sk-estimator-id-1\" type=\"checkbox\" checked><label for=\"sk-estimator-id-1\" class=\"sk-toggleable__label sk-toggleable__label-arrow\">IterativeImputer</label><div class=\"sk-toggleable__content\"><pre>IterativeImputer(max_iter=30, random_state=100)</pre></div></div></div></div></div>"
            ]
          },
          "metadata": {},
          "execution_count": 27
        }
      ]
    },
    {
      "cell_type": "code",
      "source": [
        "data_mice = mice_imputer.transform(data)\n",
        "data_mice = pd.DataFrame(data_mice, columns = data.columns)"
      ],
      "metadata": {
        "id": "_HP8To0cbip6"
      },
      "execution_count": null,
      "outputs": []
    },
    {
      "cell_type": "markdown",
      "source": [
        "2 - Regression Imputation"
      ],
      "metadata": {
        "id": "EaJBXw31ZWw-"
      }
    },
    {
      "cell_type": "code",
      "source": [
        "from sklearn.impute import KNNImputer"
      ],
      "metadata": {
        "id": "YH6CBWtwpQ1o"
      },
      "execution_count": null,
      "outputs": []
    },
    {
      "cell_type": "code",
      "source": [
        "knn_imputer = KNNImputer()\n",
        "knn_imputer.fit(data)"
      ],
      "metadata": {
        "colab": {
          "base_uri": "https://localhost:8080/",
          "height": 75
        },
        "id": "9hFDpXuzZiZd",
        "outputId": "1e7b9ef0-04fd-4efa-98c2-5a968f65531c"
      },
      "execution_count": null,
      "outputs": [
        {
          "output_type": "execute_result",
          "data": {
            "text/plain": [
              "KNNImputer()"
            ],
            "text/html": [
              "<style>#sk-container-id-2 {color: black;background-color: white;}#sk-container-id-2 pre{padding: 0;}#sk-container-id-2 div.sk-toggleable {background-color: white;}#sk-container-id-2 label.sk-toggleable__label {cursor: pointer;display: block;width: 100%;margin-bottom: 0;padding: 0.3em;box-sizing: border-box;text-align: center;}#sk-container-id-2 label.sk-toggleable__label-arrow:before {content: \"▸\";float: left;margin-right: 0.25em;color: #696969;}#sk-container-id-2 label.sk-toggleable__label-arrow:hover:before {color: black;}#sk-container-id-2 div.sk-estimator:hover label.sk-toggleable__label-arrow:before {color: black;}#sk-container-id-2 div.sk-toggleable__content {max-height: 0;max-width: 0;overflow: hidden;text-align: left;background-color: #f0f8ff;}#sk-container-id-2 div.sk-toggleable__content pre {margin: 0.2em;color: black;border-radius: 0.25em;background-color: #f0f8ff;}#sk-container-id-2 input.sk-toggleable__control:checked~div.sk-toggleable__content {max-height: 200px;max-width: 100%;overflow: auto;}#sk-container-id-2 input.sk-toggleable__control:checked~label.sk-toggleable__label-arrow:before {content: \"▾\";}#sk-container-id-2 div.sk-estimator input.sk-toggleable__control:checked~label.sk-toggleable__label {background-color: #d4ebff;}#sk-container-id-2 div.sk-label input.sk-toggleable__control:checked~label.sk-toggleable__label {background-color: #d4ebff;}#sk-container-id-2 input.sk-hidden--visually {border: 0;clip: rect(1px 1px 1px 1px);clip: rect(1px, 1px, 1px, 1px);height: 1px;margin: -1px;overflow: hidden;padding: 0;position: absolute;width: 1px;}#sk-container-id-2 div.sk-estimator {font-family: monospace;background-color: #f0f8ff;border: 1px dotted black;border-radius: 0.25em;box-sizing: border-box;margin-bottom: 0.5em;}#sk-container-id-2 div.sk-estimator:hover {background-color: #d4ebff;}#sk-container-id-2 div.sk-parallel-item::after {content: \"\";width: 100%;border-bottom: 1px solid gray;flex-grow: 1;}#sk-container-id-2 div.sk-label:hover label.sk-toggleable__label {background-color: #d4ebff;}#sk-container-id-2 div.sk-serial::before {content: \"\";position: absolute;border-left: 1px solid gray;box-sizing: border-box;top: 0;bottom: 0;left: 50%;z-index: 0;}#sk-container-id-2 div.sk-serial {display: flex;flex-direction: column;align-items: center;background-color: white;padding-right: 0.2em;padding-left: 0.2em;position: relative;}#sk-container-id-2 div.sk-item {position: relative;z-index: 1;}#sk-container-id-2 div.sk-parallel {display: flex;align-items: stretch;justify-content: center;background-color: white;position: relative;}#sk-container-id-2 div.sk-item::before, #sk-container-id-2 div.sk-parallel-item::before {content: \"\";position: absolute;border-left: 1px solid gray;box-sizing: border-box;top: 0;bottom: 0;left: 50%;z-index: -1;}#sk-container-id-2 div.sk-parallel-item {display: flex;flex-direction: column;z-index: 1;position: relative;background-color: white;}#sk-container-id-2 div.sk-parallel-item:first-child::after {align-self: flex-end;width: 50%;}#sk-container-id-2 div.sk-parallel-item:last-child::after {align-self: flex-start;width: 50%;}#sk-container-id-2 div.sk-parallel-item:only-child::after {width: 0;}#sk-container-id-2 div.sk-dashed-wrapped {border: 1px dashed gray;margin: 0 0.4em 0.5em 0.4em;box-sizing: border-box;padding-bottom: 0.4em;background-color: white;}#sk-container-id-2 div.sk-label label {font-family: monospace;font-weight: bold;display: inline-block;line-height: 1.2em;}#sk-container-id-2 div.sk-label-container {text-align: center;}#sk-container-id-2 div.sk-container {/* jupyter's `normalize.less` sets `[hidden] { display: none; }` but bootstrap.min.css set `[hidden] { display: none !important; }` so we also need the `!important` here to be able to override the default hidden behavior on the sphinx rendered scikit-learn.org. See: https://github.com/scikit-learn/scikit-learn/issues/21755 */display: inline-block !important;position: relative;}#sk-container-id-2 div.sk-text-repr-fallback {display: none;}</style><div id=\"sk-container-id-2\" class=\"sk-top-container\"><div class=\"sk-text-repr-fallback\"><pre>KNNImputer()</pre><b>In a Jupyter environment, please rerun this cell to show the HTML representation or trust the notebook. <br />On GitHub, the HTML representation is unable to render, please try loading this page with nbviewer.org.</b></div><div class=\"sk-container\" hidden><div class=\"sk-item\"><div class=\"sk-estimator sk-toggleable\"><input class=\"sk-toggleable__control sk-hidden--visually\" id=\"sk-estimator-id-2\" type=\"checkbox\" checked><label for=\"sk-estimator-id-2\" class=\"sk-toggleable__label sk-toggleable__label-arrow\">KNNImputer</label><div class=\"sk-toggleable__content\"><pre>KNNImputer()</pre></div></div></div></div></div>"
            ]
          },
          "metadata": {},
          "execution_count": 30
        }
      ]
    },
    {
      "cell_type": "code",
      "source": [
        "data_knn = knn_imputer.transform(data) #takes a good while\n",
        "data_knn = pd.DataFrame(data_knn, columns = data.columns)"
      ],
      "metadata": {
        "id": "kogK_aRTpjj-"
      },
      "execution_count": null,
      "outputs": []
    },
    {
      "cell_type": "markdown",
      "source": [
        "3 - Mean Imputation"
      ],
      "metadata": {
        "id": "70woINlcZXJl"
      }
    },
    {
      "cell_type": "code",
      "source": [
        "from sklearn.impute import SimpleImputer"
      ],
      "metadata": {
        "id": "wnR_pxunqYCe"
      },
      "execution_count": null,
      "outputs": []
    },
    {
      "cell_type": "code",
      "source": [
        "mean_imputer = SimpleImputer(strategy='mean')\n",
        "mean_imputer.fit(data)"
      ],
      "metadata": {
        "colab": {
          "base_uri": "https://localhost:8080/",
          "height": 75
        },
        "id": "gx1uWFqpZi2U",
        "outputId": "50fb096c-ad80-4b0c-906d-db195c05d1fe"
      },
      "execution_count": null,
      "outputs": [
        {
          "output_type": "execute_result",
          "data": {
            "text/plain": [
              "SimpleImputer()"
            ],
            "text/html": [
              "<style>#sk-container-id-3 {color: black;background-color: white;}#sk-container-id-3 pre{padding: 0;}#sk-container-id-3 div.sk-toggleable {background-color: white;}#sk-container-id-3 label.sk-toggleable__label {cursor: pointer;display: block;width: 100%;margin-bottom: 0;padding: 0.3em;box-sizing: border-box;text-align: center;}#sk-container-id-3 label.sk-toggleable__label-arrow:before {content: \"▸\";float: left;margin-right: 0.25em;color: #696969;}#sk-container-id-3 label.sk-toggleable__label-arrow:hover:before {color: black;}#sk-container-id-3 div.sk-estimator:hover label.sk-toggleable__label-arrow:before {color: black;}#sk-container-id-3 div.sk-toggleable__content {max-height: 0;max-width: 0;overflow: hidden;text-align: left;background-color: #f0f8ff;}#sk-container-id-3 div.sk-toggleable__content pre {margin: 0.2em;color: black;border-radius: 0.25em;background-color: #f0f8ff;}#sk-container-id-3 input.sk-toggleable__control:checked~div.sk-toggleable__content {max-height: 200px;max-width: 100%;overflow: auto;}#sk-container-id-3 input.sk-toggleable__control:checked~label.sk-toggleable__label-arrow:before {content: \"▾\";}#sk-container-id-3 div.sk-estimator input.sk-toggleable__control:checked~label.sk-toggleable__label {background-color: #d4ebff;}#sk-container-id-3 div.sk-label input.sk-toggleable__control:checked~label.sk-toggleable__label {background-color: #d4ebff;}#sk-container-id-3 input.sk-hidden--visually {border: 0;clip: rect(1px 1px 1px 1px);clip: rect(1px, 1px, 1px, 1px);height: 1px;margin: -1px;overflow: hidden;padding: 0;position: absolute;width: 1px;}#sk-container-id-3 div.sk-estimator {font-family: monospace;background-color: #f0f8ff;border: 1px dotted black;border-radius: 0.25em;box-sizing: border-box;margin-bottom: 0.5em;}#sk-container-id-3 div.sk-estimator:hover {background-color: #d4ebff;}#sk-container-id-3 div.sk-parallel-item::after {content: \"\";width: 100%;border-bottom: 1px solid gray;flex-grow: 1;}#sk-container-id-3 div.sk-label:hover label.sk-toggleable__label {background-color: #d4ebff;}#sk-container-id-3 div.sk-serial::before {content: \"\";position: absolute;border-left: 1px solid gray;box-sizing: border-box;top: 0;bottom: 0;left: 50%;z-index: 0;}#sk-container-id-3 div.sk-serial {display: flex;flex-direction: column;align-items: center;background-color: white;padding-right: 0.2em;padding-left: 0.2em;position: relative;}#sk-container-id-3 div.sk-item {position: relative;z-index: 1;}#sk-container-id-3 div.sk-parallel {display: flex;align-items: stretch;justify-content: center;background-color: white;position: relative;}#sk-container-id-3 div.sk-item::before, #sk-container-id-3 div.sk-parallel-item::before {content: \"\";position: absolute;border-left: 1px solid gray;box-sizing: border-box;top: 0;bottom: 0;left: 50%;z-index: -1;}#sk-container-id-3 div.sk-parallel-item {display: flex;flex-direction: column;z-index: 1;position: relative;background-color: white;}#sk-container-id-3 div.sk-parallel-item:first-child::after {align-self: flex-end;width: 50%;}#sk-container-id-3 div.sk-parallel-item:last-child::after {align-self: flex-start;width: 50%;}#sk-container-id-3 div.sk-parallel-item:only-child::after {width: 0;}#sk-container-id-3 div.sk-dashed-wrapped {border: 1px dashed gray;margin: 0 0.4em 0.5em 0.4em;box-sizing: border-box;padding-bottom: 0.4em;background-color: white;}#sk-container-id-3 div.sk-label label {font-family: monospace;font-weight: bold;display: inline-block;line-height: 1.2em;}#sk-container-id-3 div.sk-label-container {text-align: center;}#sk-container-id-3 div.sk-container {/* jupyter's `normalize.less` sets `[hidden] { display: none; }` but bootstrap.min.css set `[hidden] { display: none !important; }` so we also need the `!important` here to be able to override the default hidden behavior on the sphinx rendered scikit-learn.org. See: https://github.com/scikit-learn/scikit-learn/issues/21755 */display: inline-block !important;position: relative;}#sk-container-id-3 div.sk-text-repr-fallback {display: none;}</style><div id=\"sk-container-id-3\" class=\"sk-top-container\"><div class=\"sk-text-repr-fallback\"><pre>SimpleImputer()</pre><b>In a Jupyter environment, please rerun this cell to show the HTML representation or trust the notebook. <br />On GitHub, the HTML representation is unable to render, please try loading this page with nbviewer.org.</b></div><div class=\"sk-container\" hidden><div class=\"sk-item\"><div class=\"sk-estimator sk-toggleable\"><input class=\"sk-toggleable__control sk-hidden--visually\" id=\"sk-estimator-id-3\" type=\"checkbox\" checked><label for=\"sk-estimator-id-3\" class=\"sk-toggleable__label sk-toggleable__label-arrow\">SimpleImputer</label><div class=\"sk-toggleable__content\"><pre>SimpleImputer()</pre></div></div></div></div></div>"
            ]
          },
          "metadata": {},
          "execution_count": 33
        }
      ]
    },
    {
      "cell_type": "code",
      "source": [
        "data_mean = mean_imputer.transform(data)\n",
        "data_mean = pd.DataFrame(data_mean, columns = data.columns)"
      ],
      "metadata": {
        "id": "_cw6lwDzqiCF"
      },
      "execution_count": null,
      "outputs": []
    },
    {
      "cell_type": "markdown",
      "source": [
        "4 - Simply dropping them"
      ],
      "metadata": {
        "id": "7Dl5N-zjZXU6"
      }
    },
    {
      "cell_type": "code",
      "source": [
        "data_drop = data.dropna()"
      ],
      "metadata": {
        "id": "3aFZhldCZjKp"
      },
      "execution_count": null,
      "outputs": []
    },
    {
      "cell_type": "markdown",
      "source": [
        "Now that the all null values are handled, its time to handle outliers."
      ],
      "metadata": {
        "id": "surDGYEzrRaH"
      }
    },
    {
      "cell_type": "markdown",
      "source": [
        "With LocalOutlierFactor, outliers will be labeled as -1, and by returning their index, outliers are assigned to NaN. Then they're filled again with the same method."
      ],
      "metadata": {
        "id": "9lFgmOG74fvT"
      }
    },
    {
      "cell_type": "code",
      "source": [
        "from sklearn.neighbors import LocalOutlierFactor"
      ],
      "metadata": {
        "id": "ALQ4d3CM3hht"
      },
      "execution_count": null,
      "outputs": []
    },
    {
      "cell_type": "code",
      "source": [
        "lof = LocalOutlierFactor(novelty=False)"
      ],
      "metadata": {
        "id": "lD9CLRsS1pgv"
      },
      "execution_count": null,
      "outputs": []
    },
    {
      "cell_type": "code",
      "source": [
        "def handle_outliers(data_cleaned, model):\n",
        "\n",
        "  outlier_labels = lof.fit_predict(np.array(data_cleaned['mortality']).reshape(-1, 1))\n",
        "  outlier_indices = np.where(outlier_labels == -1)[0]\n",
        "  data_cleaned.loc[outlier_indices, 'mortality'] = np.nan\n",
        "\n",
        "  #Now to fill in NaN values again\n",
        "\n",
        "  model.fit(data_cleaned)\n",
        "  data_return = model.transform(data_cleaned)\n",
        "  data_return = pd.DataFrame(data_return, columns = data_cleaned.columns)\n",
        "\n",
        "  return data_return"
      ],
      "metadata": {
        "id": "N1hNXIk45khK"
      },
      "execution_count": null,
      "outputs": []
    },
    {
      "cell_type": "code",
      "source": [
        "data_mice = handle_outliers(data_mice, IterativeImputer(random_state=100, max_iter=5))"
      ],
      "metadata": {
        "id": "AjTnLj4Y5bwM"
      },
      "execution_count": null,
      "outputs": []
    },
    {
      "cell_type": "code",
      "source": [
        "data_knn = handle_outliers(data_knn, KNNImputer())"
      ],
      "metadata": {
        "id": "yuBQQB495KBO"
      },
      "execution_count": null,
      "outputs": []
    },
    {
      "cell_type": "code",
      "source": [
        "data_mean = handle_outliers(data_mean, SimpleImputer(strategy='mean'))"
      ],
      "metadata": {
        "id": "EM4Qyhtu7ty6"
      },
      "execution_count": null,
      "outputs": []
    },
    {
      "cell_type": "markdown",
      "source": [
        "Data won't be scaled since it contains coordinates."
      ],
      "metadata": {
        "id": "4H6wMWt42KBy"
      }
    },
    {
      "cell_type": "markdown",
      "source": [
        "## Model Selection"
      ],
      "metadata": {
        "id": "m54N0wz18g-C"
      }
    },
    {
      "cell_type": "markdown",
      "source": [
        "4 Regression models will be tried and evaluated for this case. One with the best performance will be used."
      ],
      "metadata": {
        "id": "41ly4HNFz2q-"
      }
    },
    {
      "cell_type": "code",
      "source": [
        "from sklearn.model_selection import train_test_split\n",
        "from sklearn.linear_model import LinearRegression\n",
        "from sklearn.metrics import mean_squared_error, r2_score"
      ],
      "metadata": {
        "id": "rZsaM5gM4FiR"
      },
      "execution_count": null,
      "outputs": []
    },
    {
      "cell_type": "code",
      "source": [
        "def calculate_mse(y_true, y_pred):\n",
        "    return mean_squared_error(y_true, y_pred)\n",
        "\n",
        "def calculate_mape(y_true, y_pred, epsilon=1e-10):\n",
        "    absolute_percentage_error = np.abs((y_true - y_pred) / (y_true + epsilon))\n",
        "    return np.mean(absolute_percentage_error) * 100"
      ],
      "metadata": {
        "id": "_uFh0Coj6d3E"
      },
      "execution_count": null,
      "outputs": []
    },
    {
      "cell_type": "code",
      "source": [
        "def fit_evaluate(model_call, data):\n",
        "  X = data.drop('mortality', axis = 1)\n",
        "  y = data['mortality']\n",
        "  X_train, X_test, y_train, y_test = train_test_split(\n",
        "    X, y, test_size = 0.33, random_state = 123)\n",
        "  model = model_call.fit(X_train, y_train)\n",
        "  predicted = model.predict(X_test)\n",
        "  train_r2 = model.score(X_train, y_train)\n",
        "  test_r2 = model.score(X_test, y_test)\n",
        "  mse = calculate_mse(y_test, predicted) # Wellness of scaling\n",
        "  mape = calculate_mape(y_test, predicted) # How well the impact of outliers are decreased\n",
        "\n",
        "  scores = [train_r2, test_r2, mse, mape]\n",
        "  print(f\"R2 score for train set {model} is : {train_r2:.2f}\")\n",
        "  print(f\"R2 score for test set {model} is : {test_r2:.2f}\")\n",
        "  print(f\"MSE error for {model} is : {mse:.2f}\")\n",
        "  print(f\"MAPE error for {model} is : {mape:.2f}\")\n",
        "  return scores"
      ],
      "metadata": {
        "id": "PGjQCSCd4uG0"
      },
      "execution_count": null,
      "outputs": []
    },
    {
      "cell_type": "markdown",
      "source": [
        "Performance for Linear Regression"
      ],
      "metadata": {
        "id": "fNXfsm1fykcA"
      }
    },
    {
      "cell_type": "code",
      "source": [
        "scores_lr_mice = fit_evaluate(LinearRegression(), data_mice)"
      ],
      "metadata": {
        "colab": {
          "base_uri": "https://localhost:8080/"
        },
        "id": "W9mO2w0Z3ur2",
        "outputId": "128de74c-9d08-4b6a-b2bf-4cd9c6dd95e9"
      },
      "execution_count": null,
      "outputs": [
        {
          "output_type": "stream",
          "name": "stdout",
          "text": [
            "R2 score for train set LinearRegression() is : 0.74\n",
            "R2 score for test set LinearRegression() is : 0.73\n",
            "MSE error for LinearRegression() is : 5149.57\n",
            "MAPE error for LinearRegression() is : 13.37\n"
          ]
        }
      ]
    },
    {
      "cell_type": "code",
      "source": [
        "scores_lr_knn = fit_evaluate(LinearRegression(), data_knn)"
      ],
      "metadata": {
        "colab": {
          "base_uri": "https://localhost:8080/"
        },
        "id": "JMnpg3VSx18g",
        "outputId": "45ec4614-1fb7-489c-fb75-c40d801a3306"
      },
      "execution_count": null,
      "outputs": [
        {
          "output_type": "stream",
          "name": "stdout",
          "text": [
            "R2 score for train set LinearRegression() is : 0.43\n",
            "R2 score for test set LinearRegression() is : 0.42\n",
            "MSE error for LinearRegression() is : 11243.09\n",
            "MAPE error for LinearRegression() is : 28.89\n"
          ]
        }
      ]
    },
    {
      "cell_type": "code",
      "source": [
        "scores_lr_mean = fit_evaluate(LinearRegression(), data_mean)"
      ],
      "metadata": {
        "colab": {
          "base_uri": "https://localhost:8080/"
        },
        "id": "phBOMII5x7zT",
        "outputId": "3af5d317-04e0-4367-eea6-d810ceeb6bc2"
      },
      "execution_count": null,
      "outputs": [
        {
          "output_type": "stream",
          "name": "stdout",
          "text": [
            "R2 score for train set LinearRegression() is : 0.21\n",
            "R2 score for test set LinearRegression() is : 0.21\n",
            "MSE error for LinearRegression() is : 8001.74\n",
            "MAPE error for LinearRegression() is : 23.59\n"
          ]
        }
      ]
    },
    {
      "cell_type": "code",
      "source": [
        "scores_lr_drop = fit_evaluate(LinearRegression(), data_drop)"
      ],
      "metadata": {
        "colab": {
          "base_uri": "https://localhost:8080/"
        },
        "id": "bHmjIFydx_Aw",
        "outputId": "2ef4f491-822e-4b2e-b5ee-3baba910fe64"
      },
      "execution_count": null,
      "outputs": [
        {
          "output_type": "stream",
          "name": "stdout",
          "text": [
            "R2 score for train set LinearRegression() is : 0.49\n",
            "R2 score for test set LinearRegression() is : 0.49\n",
            "MSE error for LinearRegression() is : 9828.89\n",
            "MAPE error for LinearRegression() is : 24.68\n"
          ]
        }
      ]
    },
    {
      "cell_type": "code",
      "source": [
        "scores_lr = [scores_lr_mice, scores_lr_knn, scores_lr_mean, scores_lr_drop]"
      ],
      "metadata": {
        "id": "pcGsxpeLNIJg"
      },
      "execution_count": null,
      "outputs": []
    },
    {
      "cell_type": "markdown",
      "source": [
        "Performance for RandomForest"
      ],
      "metadata": {
        "id": "BExolyMRy9rV"
      }
    },
    {
      "cell_type": "code",
      "source": [
        "from sklearn.ensemble import RandomForestRegressor"
      ],
      "metadata": {
        "id": "E7u27Bjly9gd"
      },
      "execution_count": null,
      "outputs": []
    },
    {
      "cell_type": "code",
      "source": [
        "scores_rf_mice = fit_evaluate(RandomForestRegressor(max_depth=None, random_state=123), data_mice)"
      ],
      "metadata": {
        "colab": {
          "base_uri": "https://localhost:8080/"
        },
        "id": "gq8JvF2AzCCb",
        "outputId": "81383cf3-d026-4242-a3e4-b3a14d3de1ca"
      },
      "execution_count": null,
      "outputs": [
        {
          "output_type": "stream",
          "name": "stdout",
          "text": [
            "R2 score for train set RandomForestRegressor(random_state=123) is : 0.97\n",
            "R2 score for test set RandomForestRegressor(random_state=123) is : 0.81\n",
            "MSE error for RandomForestRegressor(random_state=123) is : 3685.31\n",
            "MAPE error for RandomForestRegressor(random_state=123) is : 11.44\n"
          ]
        }
      ]
    },
    {
      "cell_type": "code",
      "source": [
        "scores_rf_knn = fit_evaluate(RandomForestRegressor(max_depth=None, random_state=123), data_knn)"
      ],
      "metadata": {
        "colab": {
          "base_uri": "https://localhost:8080/"
        },
        "id": "KCrfsEcLzqYT",
        "outputId": "785405bd-b2c4-432f-ea0f-1dd0c876f6b0"
      },
      "execution_count": null,
      "outputs": [
        {
          "output_type": "stream",
          "name": "stdout",
          "text": [
            "R2 score for train set RandomForestRegressor(random_state=123) is : 0.97\n",
            "R2 score for test set RandomForestRegressor(random_state=123) is : 0.84\n",
            "MSE error for RandomForestRegressor(random_state=123) is : 3080.61\n",
            "MAPE error for RandomForestRegressor(random_state=123) is : 10.94\n"
          ]
        }
      ]
    },
    {
      "cell_type": "code",
      "source": [
        "scores_rf_mean = fit_evaluate(RandomForestRegressor(max_depth=None, random_state=123), data_mean)"
      ],
      "metadata": {
        "colab": {
          "base_uri": "https://localhost:8080/"
        },
        "id": "qiUNbFbHzsjp",
        "outputId": "7a66df3c-58b8-49fb-b8cc-15fdedcc4ea5"
      },
      "execution_count": null,
      "outputs": [
        {
          "output_type": "stream",
          "name": "stdout",
          "text": [
            "R2 score for train set RandomForestRegressor(random_state=123) is : 0.92\n",
            "R2 score for test set RandomForestRegressor(random_state=123) is : 0.51\n",
            "MSE error for RandomForestRegressor(random_state=123) is : 4972.40\n",
            "MAPE error for RandomForestRegressor(random_state=123) is : 14.66\n"
          ]
        }
      ]
    },
    {
      "cell_type": "code",
      "source": [
        "scores_rf_drop = fit_evaluate(RandomForestRegressor(max_depth=None, random_state=123), data_drop)"
      ],
      "metadata": {
        "colab": {
          "base_uri": "https://localhost:8080/"
        },
        "id": "1hrsx2r7zsy7",
        "outputId": "00244b29-7039-4561-a166-d0c2a02e641e"
      },
      "execution_count": null,
      "outputs": [
        {
          "output_type": "stream",
          "name": "stdout",
          "text": [
            "R2 score for train set RandomForestRegressor(random_state=123) is : 0.95\n",
            "R2 score for test set RandomForestRegressor(random_state=123) is : 0.70\n",
            "MSE error for RandomForestRegressor(random_state=123) is : 5714.83\n",
            "MAPE error for RandomForestRegressor(random_state=123) is : 16.15\n"
          ]
        }
      ]
    },
    {
      "cell_type": "code",
      "source": [
        "scores_rf = [scores_rf_mice, scores_rf_knn, scores_rf_mean, scores_rf_drop]"
      ],
      "metadata": {
        "id": "jDz9CLSENQDD"
      },
      "execution_count": null,
      "outputs": []
    },
    {
      "cell_type": "markdown",
      "source": [
        "## Model Evaluation"
      ],
      "metadata": {
        "id": "dGv9YpWChT3W"
      }
    },
    {
      "cell_type": "markdown",
      "source": [
        "Performance for SVR"
      ],
      "metadata": {
        "id": "R3iknZGW7Ex-"
      }
    },
    {
      "cell_type": "code",
      "source": [
        "from sklearn.svm import SVR\n",
        "from sklearn.pipeline import make_pipeline\n",
        "from sklearn.preprocessing import StandardScaler"
      ],
      "metadata": {
        "id": "PGhAzstI7KC8"
      },
      "execution_count": null,
      "outputs": []
    },
    {
      "cell_type": "code",
      "source": [
        "scores_svr_mice = fit_evaluate(make_pipeline(StandardScaler(), SVR(C=1.0, epsilon=0.2)), data_mice) #takes a good while"
      ],
      "metadata": {
        "colab": {
          "base_uri": "https://localhost:8080/"
        },
        "id": "bQZxCuXE7FDA",
        "outputId": "690e622e-b683-4439-fab9-16900761623c"
      },
      "execution_count": null,
      "outputs": [
        {
          "output_type": "stream",
          "name": "stdout",
          "text": [
            "R2 score for train set Pipeline(steps=[('standardscaler', StandardScaler()),\n",
            "                ('svr', SVR(epsilon=0.2))]) is : 0.74\n",
            "R2 score for test set Pipeline(steps=[('standardscaler', StandardScaler()),\n",
            "                ('svr', SVR(epsilon=0.2))]) is : 0.74\n",
            "MSE error for Pipeline(steps=[('standardscaler', StandardScaler()),\n",
            "                ('svr', SVR(epsilon=0.2))]) is : 4995.23\n",
            "MAPE error for Pipeline(steps=[('standardscaler', StandardScaler()),\n",
            "                ('svr', SVR(epsilon=0.2))]) is : 13.36\n"
          ]
        }
      ]
    },
    {
      "cell_type": "code",
      "source": [
        "scores_svr_knn = fit_evaluate(make_pipeline(StandardScaler(), SVR(C=1.0, epsilon=0.2)), data_knn)"
      ],
      "metadata": {
        "colab": {
          "base_uri": "https://localhost:8080/"
        },
        "id": "3daNXnvL7FVe",
        "outputId": "57a51ce7-de6a-4892-98d2-bb6451274cdd"
      },
      "execution_count": null,
      "outputs": [
        {
          "output_type": "stream",
          "name": "stdout",
          "text": [
            "R2 score for train set Pipeline(steps=[('standardscaler', StandardScaler()),\n",
            "                ('svr', SVR(epsilon=0.2))]) is : 0.48\n",
            "R2 score for test set Pipeline(steps=[('standardscaler', StandardScaler()),\n",
            "                ('svr', SVR(epsilon=0.2))]) is : 0.48\n",
            "MSE error for Pipeline(steps=[('standardscaler', StandardScaler()),\n",
            "                ('svr', SVR(epsilon=0.2))]) is : 10117.84\n",
            "MAPE error for Pipeline(steps=[('standardscaler', StandardScaler()),\n",
            "                ('svr', SVR(epsilon=0.2))]) is : 24.43\n"
          ]
        }
      ]
    },
    {
      "cell_type": "code",
      "source": [
        "scores_svr_mean = fit_evaluate(make_pipeline(StandardScaler(), SVR(C=1.0, epsilon=0.2)), data_mean)"
      ],
      "metadata": {
        "colab": {
          "base_uri": "https://localhost:8080/"
        },
        "id": "99xGS92f7Fkw",
        "outputId": "6095a801-c82a-48fe-c9fc-f193fbf86368"
      },
      "execution_count": null,
      "outputs": [
        {
          "output_type": "stream",
          "name": "stdout",
          "text": [
            "R2 score for train set Pipeline(steps=[('standardscaler', StandardScaler()),\n",
            "                ('svr', SVR(epsilon=0.2))]) is : 0.22\n",
            "R2 score for test set Pipeline(steps=[('standardscaler', StandardScaler()),\n",
            "                ('svr', SVR(epsilon=0.2))]) is : 0.23\n",
            "MSE error for Pipeline(steps=[('standardscaler', StandardScaler()),\n",
            "                ('svr', SVR(epsilon=0.2))]) is : 7824.04\n",
            "MAPE error for Pipeline(steps=[('standardscaler', StandardScaler()),\n",
            "                ('svr', SVR(epsilon=0.2))]) is : 19.96\n"
          ]
        }
      ]
    },
    {
      "cell_type": "code",
      "source": [
        "scores_svr_drop = fit_evaluate(make_pipeline(StandardScaler(), SVR(C=1.0, epsilon=0.2)), data_drop)"
      ],
      "metadata": {
        "colab": {
          "base_uri": "https://localhost:8080/"
        },
        "id": "_Lsr8NrC7Fuh",
        "outputId": "31be1ae3-9747-48c8-e4ad-f87c0aa0988b"
      },
      "execution_count": null,
      "outputs": [
        {
          "output_type": "stream",
          "name": "stdout",
          "text": [
            "R2 score for train set Pipeline(steps=[('standardscaler', StandardScaler()),\n",
            "                ('svr', SVR(epsilon=0.2))]) is : 0.51\n",
            "R2 score for test set Pipeline(steps=[('standardscaler', StandardScaler()),\n",
            "                ('svr', SVR(epsilon=0.2))]) is : 0.52\n",
            "MSE error for Pipeline(steps=[('standardscaler', StandardScaler()),\n",
            "                ('svr', SVR(epsilon=0.2))]) is : 9200.50\n",
            "MAPE error for Pipeline(steps=[('standardscaler', StandardScaler()),\n",
            "                ('svr', SVR(epsilon=0.2))]) is : 21.76\n"
          ]
        }
      ]
    },
    {
      "cell_type": "code",
      "source": [
        "scores_svr = [scores_svr_mice, scores_svr_knn, scores_svr_mean, scores_svr_drop]"
      ],
      "metadata": {
        "id": "zNjKSF1vNVyK"
      },
      "execution_count": null,
      "outputs": []
    },
    {
      "cell_type": "markdown",
      "source": [
        "Performance for XGBoost (Gradient Boosting Regression)"
      ],
      "metadata": {
        "id": "e9lmNYqR0I5H"
      }
    },
    {
      "cell_type": "code",
      "source": [
        "from sklearn.ensemble import GradientBoostingRegressor"
      ],
      "metadata": {
        "id": "_NSoQ47M8tFd"
      },
      "execution_count": null,
      "outputs": []
    },
    {
      "cell_type": "code",
      "source": [
        "score_xg_mice = fit_evaluate(GradientBoostingRegressor(random_state=123), data_mice)"
      ],
      "metadata": {
        "colab": {
          "base_uri": "https://localhost:8080/"
        },
        "id": "y-Wum9Cd0OIz",
        "outputId": "1c492c4c-1382-4aa6-e029-a48f6b7bb8a6"
      },
      "execution_count": null,
      "outputs": [
        {
          "output_type": "stream",
          "name": "stdout",
          "text": [
            "R2 score for train set GradientBoostingRegressor(random_state=123) is : 0.79\n",
            "R2 score for test set GradientBoostingRegressor(random_state=123) is : 0.79\n",
            "MSE error for GradientBoostingRegressor(random_state=123) is : 4041.30\n",
            "MAPE error for GradientBoostingRegressor(random_state=123) is : 13.69\n"
          ]
        }
      ]
    },
    {
      "cell_type": "code",
      "source": [
        "score_xg_knn = fit_evaluate(GradientBoostingRegressor(random_state=123), data_knn)"
      ],
      "metadata": {
        "colab": {
          "base_uri": "https://localhost:8080/"
        },
        "id": "uSpnA0Rw0Ol-",
        "outputId": "2c2e160d-e908-40a0-cd5b-7e0e6c680611"
      },
      "execution_count": null,
      "outputs": [
        {
          "output_type": "stream",
          "name": "stdout",
          "text": [
            "R2 score for train set GradientBoostingRegressor(random_state=123) is : 0.63\n",
            "R2 score for test set GradientBoostingRegressor(random_state=123) is : 0.62\n",
            "MSE error for GradientBoostingRegressor(random_state=123) is : 7353.01\n",
            "MAPE error for GradientBoostingRegressor(random_state=123) is : 22.51\n"
          ]
        }
      ]
    },
    {
      "cell_type": "code",
      "source": [
        "score_xg_mean = fit_evaluate(GradientBoostingRegressor(random_state=123), data_mean)"
      ],
      "metadata": {
        "colab": {
          "base_uri": "https://localhost:8080/"
        },
        "id": "8EG71iER0Oy1",
        "outputId": "6371777e-0da2-47f9-ca90-044253d038e7"
      },
      "execution_count": null,
      "outputs": [
        {
          "output_type": "stream",
          "name": "stdout",
          "text": [
            "R2 score for train set GradientBoostingRegressor(random_state=123) is : 0.43\n",
            "R2 score for test set GradientBoostingRegressor(random_state=123) is : 0.44\n",
            "MSE error for GradientBoostingRegressor(random_state=123) is : 5730.56\n",
            "MAPE error for GradientBoostingRegressor(random_state=123) is : 19.30\n"
          ]
        }
      ]
    },
    {
      "cell_type": "code",
      "source": [
        "score_xg_drop = fit_evaluate(GradientBoostingRegressor(random_state=123), data_drop)"
      ],
      "metadata": {
        "colab": {
          "base_uri": "https://localhost:8080/"
        },
        "id": "VEtO0esu0PBh",
        "outputId": "a6a224bd-0372-472b-bf98-11618ef2c26d"
      },
      "execution_count": null,
      "outputs": [
        {
          "output_type": "stream",
          "name": "stdout",
          "text": [
            "R2 score for train set GradientBoostingRegressor(random_state=123) is : 0.65\n",
            "R2 score for test set GradientBoostingRegressor(random_state=123) is : 0.66\n",
            "MSE error for GradientBoostingRegressor(random_state=123) is : 6616.78\n",
            "MAPE error for GradientBoostingRegressor(random_state=123) is : 19.19\n"
          ]
        }
      ]
    },
    {
      "cell_type": "code",
      "source": [
        "scores_xg = [score_xg_mice, score_xg_knn, score_xg_mean, score_xg_drop]"
      ],
      "metadata": {
        "id": "wqVNl3VGNdI6"
      },
      "execution_count": null,
      "outputs": []
    },
    {
      "cell_type": "markdown",
      "source": [
        "Performance for Neural Network"
      ],
      "metadata": {
        "id": "YD6SVYkJ0PW9"
      }
    },
    {
      "cell_type": "code",
      "source": [
        "from sklearn.neural_network import MLPRegressor"
      ],
      "metadata": {
        "id": "KOUeSAF99PLj"
      },
      "execution_count": null,
      "outputs": []
    },
    {
      "cell_type": "code",
      "source": [
        "score_mlp_mice = fit_evaluate(MLPRegressor(random_state=123, max_iter=250), data_mice)"
      ],
      "metadata": {
        "colab": {
          "base_uri": "https://localhost:8080/"
        },
        "id": "1QCi4_HU0Yh1",
        "outputId": "599be219-649d-4354-ab25-236b5e60f3bf"
      },
      "execution_count": null,
      "outputs": [
        {
          "output_type": "stream",
          "name": "stdout",
          "text": [
            "R2 score for train set MLPRegressor(max_iter=250, random_state=123) is : 0.74\n",
            "R2 score for test set MLPRegressor(max_iter=250, random_state=123) is : 0.73\n",
            "MSE error for MLPRegressor(max_iter=250, random_state=123) is : 5102.77\n",
            "MAPE error for MLPRegressor(max_iter=250, random_state=123) is : 14.14\n"
          ]
        }
      ]
    },
    {
      "cell_type": "code",
      "source": [
        "score_mlp_knn = fit_evaluate(MLPRegressor(random_state=123, max_iter=250), data_knn)"
      ],
      "metadata": {
        "colab": {
          "base_uri": "https://localhost:8080/"
        },
        "id": "XdUeSnmy0ZHB",
        "outputId": "1358ee15-4ba5-41ec-fff2-dc7f68f396ef"
      },
      "execution_count": null,
      "outputs": [
        {
          "output_type": "stream",
          "name": "stdout",
          "text": [
            "R2 score for train set MLPRegressor(max_iter=250, random_state=123) is : 0.50\n",
            "R2 score for test set MLPRegressor(max_iter=250, random_state=123) is : 0.50\n",
            "MSE error for MLPRegressor(max_iter=250, random_state=123) is : 9830.87\n",
            "MAPE error for MLPRegressor(max_iter=250, random_state=123) is : 25.80\n"
          ]
        },
        {
          "output_type": "stream",
          "name": "stderr",
          "text": [
            "/usr/local/lib/python3.10/dist-packages/sklearn/neural_network/_multilayer_perceptron.py:686: ConvergenceWarning: Stochastic Optimizer: Maximum iterations (250) reached and the optimization hasn't converged yet.\n",
            "  warnings.warn(\n"
          ]
        }
      ]
    },
    {
      "cell_type": "code",
      "source": [
        "score_mlp_mean = fit_evaluate(MLPRegressor(random_state=123, max_iter=250), data_mean)"
      ],
      "metadata": {
        "colab": {
          "base_uri": "https://localhost:8080/"
        },
        "id": "_eYE6v5l0ZPc",
        "outputId": "d20a4e54-584a-4d3b-9ca5-6c646b9282ce"
      },
      "execution_count": null,
      "outputs": [
        {
          "output_type": "stream",
          "name": "stderr",
          "text": [
            "/usr/local/lib/python3.10/dist-packages/sklearn/neural_network/_multilayer_perceptron.py:686: ConvergenceWarning: Stochastic Optimizer: Maximum iterations (250) reached and the optimization hasn't converged yet.\n",
            "  warnings.warn(\n"
          ]
        },
        {
          "output_type": "stream",
          "name": "stdout",
          "text": [
            "R2 score for train set MLPRegressor(max_iter=250, random_state=123) is : 0.31\n",
            "R2 score for test set MLPRegressor(max_iter=250, random_state=123) is : 0.31\n",
            "MSE error for MLPRegressor(max_iter=250, random_state=123) is : 7051.10\n",
            "MAPE error for MLPRegressor(max_iter=250, random_state=123) is : 21.30\n"
          ]
        }
      ]
    },
    {
      "cell_type": "code",
      "source": [
        "score_mlp_drop = fit_evaluate(MLPRegressor(random_state=123, max_iter=250), data_drop)"
      ],
      "metadata": {
        "colab": {
          "base_uri": "https://localhost:8080/"
        },
        "id": "Jzxjksmj0ZjM",
        "outputId": "5c04ac96-46f2-41f5-a3f2-9006b1a847b4"
      },
      "execution_count": null,
      "outputs": [
        {
          "output_type": "stream",
          "name": "stderr",
          "text": [
            "/usr/local/lib/python3.10/dist-packages/sklearn/neural_network/_multilayer_perceptron.py:686: ConvergenceWarning: Stochastic Optimizer: Maximum iterations (250) reached and the optimization hasn't converged yet.\n",
            "  warnings.warn(\n"
          ]
        },
        {
          "output_type": "stream",
          "name": "stdout",
          "text": [
            "R2 score for train set MLPRegressor(max_iter=250, random_state=123) is : 0.53\n",
            "R2 score for test set MLPRegressor(max_iter=250, random_state=123) is : 0.54\n",
            "MSE error for MLPRegressor(max_iter=250, random_state=123) is : 8887.33\n",
            "MAPE error for MLPRegressor(max_iter=250, random_state=123) is : 24.08\n"
          ]
        }
      ]
    },
    {
      "cell_type": "code",
      "source": [
        "scores_mlp = [score_mlp_mice, score_mlp_knn, score_mlp_mean, score_mlp_drop]"
      ],
      "metadata": {
        "id": "Aipizgl_NjOu"
      },
      "execution_count": null,
      "outputs": []
    },
    {
      "cell_type": "markdown",
      "source": [
        "Comparing Imputers' Performances:"
      ],
      "metadata": {
        "id": "d8Bh1iuCKJrJ"
      }
    },
    {
      "cell_type": "code",
      "source": [
        "def generate_metrics(scores):\n",
        "  metrics = []\n",
        "  for i in range(4):\n",
        "    arr = [score[i] for score in scores]\n",
        "    metrics.append(arr)\n",
        "  return metrics\n",
        "\n",
        "def barplot_imp(model_title, scores):\n",
        "    imputers = ['MICE', 'kNN', 'Mean', 'Dropping']\n",
        "    metrics = generate_metrics(scores) # 0 train_r2, 1 test_r2, 2 mse, 3 maPE\n",
        "    # Create a 2x2 subplot\n",
        "    fig, axes = plt.subplots(2, 2, figsize=(12, 10))\n",
        "\n",
        "    # Plot train R2 scores\n",
        "    sns.barplot(x=imputers, y=metrics[0], ax=axes[0, 0])\n",
        "    axes[0, 0].set_title(f'Train R2 Score of {model_title}')\n",
        "    axes[0, 0].set_xlabel('Imputers')\n",
        "    axes[0, 0].set_ylabel('Train R2 Score')\n",
        "\n",
        "    # Plot test R2 scores\n",
        "    sns.barplot(x=imputers, y=metrics[1], ax=axes[0, 1])\n",
        "    axes[0, 1].set_title(f'Test R2 Score of {model_title}')\n",
        "    axes[0, 1].set_xlabel('Imputers')\n",
        "    axes[0, 1].set_ylabel('Test R2 Score')\n",
        "\n",
        "    # Plot MSE scores\n",
        "    sns.barplot(x=imputers, y=metrics[2], ax=axes[1, 0])\n",
        "    axes[1, 0].set_title(f'MSE Error for {model_title}')\n",
        "    axes[1, 0].set_xlabel('Imputers')\n",
        "    axes[1, 0].set_ylabel('MSE')\n",
        "\n",
        "    # Plot MAPE scores\n",
        "    sns.barplot(x=imputers, y=metrics[3], ax=axes[1, 1])\n",
        "    axes[1, 1].set_title(f'MAPE Error for {model_title}')\n",
        "    axes[1, 1].set_xlabel('Imputers')\n",
        "    axes[1, 1].set_ylabel('MAPE')\n",
        "\n",
        "    # Adjust layout\n",
        "    plt.tight_layout()\n",
        "    plt.show()"
      ],
      "metadata": {
        "id": "raxPOwPFK_s6"
      },
      "execution_count": null,
      "outputs": []
    },
    {
      "cell_type": "markdown",
      "source": [
        "For Linear Regression:"
      ],
      "metadata": {
        "id": "MSgHQij4MfF1"
      }
    },
    {
      "cell_type": "code",
      "source": [
        "barplot_imp(\"Linear Regression\", scores_lr)"
      ],
      "metadata": {
        "id": "EqQ7SWPQIAZu",
        "colab": {
          "base_uri": "https://localhost:8080/",
          "height": 1000
        },
        "outputId": "9dae32b8-9b1c-4233-eb8e-1e5b6069a0ab"
      },
      "execution_count": null,
      "outputs": [
        {
          "output_type": "display_data",
          "data": {
            "text/plain": [
              "<Figure size 1200x1000 with 4 Axes>"
            ],
            "image/png": "[encoded data removed]"
          },
          "metadata": {}
        }
      ]
    },
    {
      "cell_type": "markdown",
      "source": [
        "For Random Forest:"
      ],
      "metadata": {
        "id": "cPniZ-qrMiCt"
      }
    },
    {
      "cell_type": "code",
      "source": [
        "barplot_imp(\"Random Forest\", scores_rf)"
      ],
      "metadata": {
        "colab": {
          "base_uri": "https://localhost:8080/",
          "height": 1000
        },
        "id": "2jvBJqfqMm7C",
        "outputId": "b94be12a-f595-48e9-8c62-e7efa04b2634"
      },
      "execution_count": null,
      "outputs": [
        {
          "output_type": "display_data",
          "data": {
            "text/plain": [
              "<Figure size 1200x1000 with 4 Axes>"
            ],
            "image/png": "[encoded data removed]"
          },
          "metadata": {}
        }
      ]
    },
    {
      "cell_type": "markdown",
      "source": [
        "For XGBoost:"
      ],
      "metadata": {
        "id": "nRYe6xucMnY8"
      }
    },
    {
      "cell_type": "code",
      "source": [
        "barplot_imp(\"Gradient Boost\", scores_xg)"
      ],
      "metadata": {
        "colab": {
          "base_uri": "https://localhost:8080/",
          "height": 1000
        },
        "id": "acdi_Rc0Mp6L",
        "outputId": "d6b171c5-0f93-49a5-ca32-618e32efc7fb"
      },
      "execution_count": null,
      "outputs": [
        {
          "output_type": "display_data",
          "data": {
            "text/plain": [
              "<Figure size 1200x1000 with 4 Axes>"
            ],
            "image/png": "[encoded data removed]"
          },
          "metadata": {}
        }
      ]
    },
    {
      "cell_type": "markdown",
      "source": [
        "For SVR:"
      ],
      "metadata": {
        "id": "BS8_Mv89MpGT"
      }
    },
    {
      "cell_type": "code",
      "source": [
        "barplot_imp(\"SVR\", scores_svr)"
      ],
      "metadata": {
        "colab": {
          "base_uri": "https://localhost:8080/",
          "height": 1000
        },
        "id": "KhCkBYbwMo-A",
        "outputId": "45e9625c-c0c0-491b-c887-d992499102d0"
      },
      "execution_count": null,
      "outputs": [
        {
          "output_type": "display_data",
          "data": {
            "text/plain": [
              "<Figure size 1200x1000 with 4 Axes>"
            ],
            "image/png": "[encoded data removed]"
          },
          "metadata": {}
        }
      ]
    },
    {
      "cell_type": "markdown",
      "source": [
        "For MLP:"
      ],
      "metadata": {
        "id": "Rfpfzu58Ms_z"
      }
    },
    {
      "cell_type": "code",
      "source": [
        "barplot_imp(\"Neural Network\", scores_mlp)"
      ],
      "metadata": {
        "colab": {
          "base_uri": "https://localhost:8080/",
          "height": 1000
        },
        "id": "tF8-nYCjMsjl",
        "outputId": "4ac7f08b-0b5b-40fc-b2a0-169f89be7764"
      },
      "execution_count": null,
      "outputs": [
        {
          "output_type": "display_data",
          "data": {
            "text/plain": [
              "<Figure size 1200x1000 with 4 Axes>"
            ],
            "image/png": "[encoded data removed]"
          },
          "metadata": {}
        }
      ]
    },
    {
      "cell_type": "markdown",
      "source": [
        "It can be concluded from above, MICE outperforms other imputer techniques in 3 of 4 models. In RandomForest, kNN outperforms all. Also, simple imputing or dropping NaN values on this dataset resulted on inconsistent low performance. So when number of NaN values are high, it is wiser to multiple impute or regression impute."
      ],
      "metadata": {
        "id": "djAm2AJ3R0iB"
      }
    },
    {
      "cell_type": "markdown",
      "source": [
        "Comparing Models' Performances"
      ],
      "metadata": {
        "id": "Jkj66RhuKMuS"
      }
    },
    {
      "cell_type": "code",
      "source": [
        "scores = [scores_lr[0], scores_rf[1], scores_xg[0], scores_svr[0], scores_mlp[0]]\n",
        "metrics = generate_metrics(scores)\n",
        "models = ['LR', 'RF','XG', 'SVR', 'MLP']"
      ],
      "metadata": {
        "id": "OMmZ7RjXTb4_"
      },
      "execution_count": null,
      "outputs": []
    },
    {
      "cell_type": "code",
      "source": [
        "# Create a 2x2 subplot\n",
        "fig2, axes2 = plt.subplots(2, 2, figsize=(12, 10))\n",
        "\n",
        "# Plot train R2 scores\n",
        "sns.barplot(x=models, y=metrics[0], ax=axes2[0, 0])\n",
        "axes2[0, 0].set_title(f'Train R2 Scores')\n",
        "axes2[0, 0].set_xlabel('Models')\n",
        "axes2[0, 0].set_ylabel('Train R2 Score')\n",
        "\n",
        "# Plot test R2 scores\n",
        "sns.barplot(x=models, y=metrics[1], ax=axes2[0, 1])\n",
        "axes2[0, 1].set_title(f'Test R2 Scores')\n",
        "axes2[0, 1].set_xlabel('Models')\n",
        "axes2[0, 1].set_ylabel('Test R2 Score')\n",
        "\n",
        "# Plot MSE scores\n",
        "sns.barplot(x=models, y=metrics[2], ax=axes2[1, 0])\n",
        "axes2[1, 0].set_title(f'MSE')\n",
        "axes2[1, 0].set_xlabel('Models')\n",
        "axes2[1, 0].set_ylabel('MSE')\n",
        "\n",
        "# Plot MAPE scores\n",
        "sns.barplot(x=models, y=metrics[3], ax=axes2[1, 1])\n",
        "axes2[1, 1].set_title(f'MAPE')\n",
        "axes2[1, 1].set_xlabel('Models')\n",
        "axes2[1, 1].set_ylabel('MAPE')\n",
        "\n",
        "plt.tight_layout()\n",
        "plt.show()\n"
      ],
      "metadata": {
        "colab": {
          "base_uri": "https://localhost:8080/",
          "height": 1000
        },
        "id": "gKCg1Ii_WZn5",
        "outputId": "59f62b46-6abf-4d0a-b215-2801e9afb9e6"
      },
      "execution_count": null,
      "outputs": [
        {
          "output_type": "display_data",
          "data": {
            "text/plain": [
              "<Figure size 1200x1000 with 4 Axes>"
            ],
            "image/png": "[encoded data removed]"
          },
          "metadata": {}
        }
      ]
    },
    {
      "cell_type": "markdown",
      "source": [
        "From the graphs above, it can be concluded that model that performs best on this dataset is Random Forest. It is predictable because data is unscaled. After that, XGBoost had a relatively good performance despite its high MAPE values. That means Gradient Boost Regression is affected by outliers. Even though it fits well to the data."
      ],
      "metadata": {
        "id": "yguNuIMzbqvy"
      }
    },
    {
      "cell_type": "markdown",
      "source": [
        "## Report"
      ],
      "metadata": {
        "id": "mzge81co0aBJ"
      }
    },
    {
      "cell_type": "markdown",
      "source": [
        "### 1. Introduction:\n",
        "\n",
        "The goal of this project was to predict heart disease mortality rates based on various factors, including race, gender, and geographical coordinates. The dataset initially contained 59076 rows and 19 columns, with over 25000 samples having NaN values.\n",
        "\n",
        "The project followed a structured approach, involving data preprocessing, imputation, outlier handling, and model selection."
      ],
      "metadata": {
        "id": "_VjSQHZ8f2f0"
      }
    },
    {
      "cell_type": "markdown",
      "source": [
        "### 2. Data Preprocessing:\n",
        "\n",
        "#### 2.1 Column Selection:\n",
        "Unnecessary columns were identified and dropped, resulting in a dataset with 7 columns: 'LocationAbbr', 'GeographicLevel', 'Data_Value', 'Data_Value_Type', 'Stratification1', 'Stratification2', and 'Location 1'.\n",
        "\n",
        "#### 2.2 Missing Values:\n",
        "Different imputation techniques, including MICE, kNN, mean imputation or simply dropping missing values were applied. The chosen method depended on the model's performance.\n",
        "\n",
        "#### 2.3 Coordinate Transformation:\n",
        "Coordinate values were transformed into their Euclidean distance to convert them into numerical features.\n",
        "\n",
        "#### 2.4 Outlier Handling:\n",
        "Outliers were addressed using the Local Outlier Factor (LOF) algorithm from scikit-learn.\n",
        "\n",
        "#### 2.5 Model-Dependent Preprocessing:\n",
        "Data was labeled and one-hot encoded as needed for different regression models."
      ],
      "metadata": {
        "id": "4UPKFrWcf-c8"
      }
    },
    {
      "cell_type": "markdown",
      "source": [
        "### 3. Model Selection:\n",
        "\n",
        "Five regression models were considered for predicting heart disease mortality rates: Linear Regression, Random Forest, Support Vector Regression (SVR), XGBoost, and Neural Network. The dataset was split into training and testing sets for model evaluation."
      ],
      "metadata": {
        "id": "X36dCQBmgDrS"
      }
    },
    {
      "cell_type": "markdown",
      "source": [
        "### 4. Imputation Technique Comparison:\n",
        "\n",
        "A systematic comparison of different imputation techniques was conducted for each model. MICE imputation performed well across multiple metrics, while kNN imputation showed superiority with the Random Forest model."
      ],
      "metadata": {
        "id": "rhvzyoSngHSB"
      }
    },
    {
      "cell_type": "markdown",
      "source": [
        "### 5. Model Evaluation and Comparison:\n",
        "\n",
        "A function was defined to graphically compare the performances of different models using the best-imputed data. RandomForest emerged as the top-performing model, main reason can be RandomForest's compatibility with unscaled data. XGBoost performed well but showed sensitivity to outliers, indicated by a high MAPE error."
      ],
      "metadata": {
        "id": "KYqfdeGGgJcF"
      }
    },
    {
      "cell_type": "markdown",
      "source": [
        "### 6. Conclusion:\n",
        "\n",
        "In conclusion, the RandomForest model, trained on MICE-imputed data, proved to be the most effective in predicting heart disease mortality rates. The decision not to scale data, considering the inclusion of coordinates, was validated by RandomForest's strong performance.\n",
        "\n",
        "The project highlights the importance of thorough preprocessing, imputation, and careful consideration of model characteristics in predictive modeling tasks."
      ],
      "metadata": {
        "id": "ixJkaCrSgMbH"
      }
    },
    {
      "cell_type": "markdown",
      "source": [
        "### 7. Future Work:\n",
        "\n",
        "Future work could set a decision boundary and convert this problem to a Yes/No binary classification problem.\n"
      ],
      "metadata": {
        "id": "qHi9yQSqgMxQ"
      }
    }
  ]
}